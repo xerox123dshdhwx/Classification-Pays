{
 "cells": [
  {
   "cell_type": "code",
   "execution_count": 4,
   "metadata": {
    "ExecuteTime": {
     "end_time": "2023-04-24T10:50:55.196780Z",
     "start_time": "2023-04-24T10:50:06.876539Z"
    },
    "collapsed": true
   },
   "outputs": [],
   "source": [
    "import seaborn as sns\n",
    "import numpy as np\n",
    "import matplotlib.pyplot as plt\n",
    "import plotly.express as px\n",
    "import plotly.graph_objects as go\n",
    "import plotly.subplots as sp\n",
    "import pandas as pd\n",
    "import geopandas as gpd\n",
    "import numpy as np\n",
    "from sklearn.pipeline import Pipeline\n",
    "from sklearn.preprocessing import MinMaxScaler, StandardScaler\n",
    "from sklearn.cluster import SpectralClustering\n",
    "from sklearn.metrics import silhouette_score\n"
   ]
  },
  {
   "cell_type": "code",
   "execution_count": 5,
   "metadata": {
    "ExecuteTime": {
     "end_time": "2023-04-24T10:50:55.287740Z",
     "start_time": "2023-04-24T10:50:06.978950Z"
    },
    "collapsed": false
   },
   "outputs": [
    {
     "data": {
      "text/html": [
       "<div>\n",
       "<style scoped>\n",
       "    .dataframe tbody tr th:only-of-type {\n",
       "        vertical-align: middle;\n",
       "    }\n",
       "\n",
       "    .dataframe tbody tr th {\n",
       "        vertical-align: top;\n",
       "    }\n",
       "\n",
       "    .dataframe thead th {\n",
       "        text-align: right;\n",
       "    }\n",
       "</style>\n",
       "<table border=\"1\" class=\"dataframe\">\n",
       "  <thead>\n",
       "    <tr style=\"text-align: right;\">\n",
       "      <th></th>\n",
       "      <th>country</th>\n",
       "      <th>child_mort</th>\n",
       "      <th>exports</th>\n",
       "      <th>health</th>\n",
       "      <th>imports</th>\n",
       "      <th>income</th>\n",
       "      <th>inflation</th>\n",
       "      <th>life_expec</th>\n",
       "      <th>total_fer</th>\n",
       "      <th>gdpp</th>\n",
       "    </tr>\n",
       "  </thead>\n",
       "  <tbody>\n",
       "    <tr>\n",
       "      <th>0</th>\n",
       "      <td>Afghanistan</td>\n",
       "      <td>90.2</td>\n",
       "      <td>10.0</td>\n",
       "      <td>7.58</td>\n",
       "      <td>44.9</td>\n",
       "      <td>1610</td>\n",
       "      <td>9.44</td>\n",
       "      <td>56.2</td>\n",
       "      <td>5.82</td>\n",
       "      <td>553</td>\n",
       "    </tr>\n",
       "    <tr>\n",
       "      <th>1</th>\n",
       "      <td>Albania</td>\n",
       "      <td>16.6</td>\n",
       "      <td>28.0</td>\n",
       "      <td>6.55</td>\n",
       "      <td>48.6</td>\n",
       "      <td>9930</td>\n",
       "      <td>4.49</td>\n",
       "      <td>76.3</td>\n",
       "      <td>1.65</td>\n",
       "      <td>4090</td>\n",
       "    </tr>\n",
       "    <tr>\n",
       "      <th>2</th>\n",
       "      <td>Algeria</td>\n",
       "      <td>27.3</td>\n",
       "      <td>38.4</td>\n",
       "      <td>4.17</td>\n",
       "      <td>31.4</td>\n",
       "      <td>12900</td>\n",
       "      <td>16.10</td>\n",
       "      <td>76.5</td>\n",
       "      <td>2.89</td>\n",
       "      <td>4460</td>\n",
       "    </tr>\n",
       "    <tr>\n",
       "      <th>3</th>\n",
       "      <td>Angola</td>\n",
       "      <td>119.0</td>\n",
       "      <td>62.3</td>\n",
       "      <td>2.85</td>\n",
       "      <td>42.9</td>\n",
       "      <td>5900</td>\n",
       "      <td>22.40</td>\n",
       "      <td>60.1</td>\n",
       "      <td>6.16</td>\n",
       "      <td>3530</td>\n",
       "    </tr>\n",
       "    <tr>\n",
       "      <th>4</th>\n",
       "      <td>Antigua and Barbuda</td>\n",
       "      <td>10.3</td>\n",
       "      <td>45.5</td>\n",
       "      <td>6.03</td>\n",
       "      <td>58.9</td>\n",
       "      <td>19100</td>\n",
       "      <td>1.44</td>\n",
       "      <td>76.8</td>\n",
       "      <td>2.13</td>\n",
       "      <td>12200</td>\n",
       "    </tr>\n",
       "    <tr>\n",
       "      <th>...</th>\n",
       "      <td>...</td>\n",
       "      <td>...</td>\n",
       "      <td>...</td>\n",
       "      <td>...</td>\n",
       "      <td>...</td>\n",
       "      <td>...</td>\n",
       "      <td>...</td>\n",
       "      <td>...</td>\n",
       "      <td>...</td>\n",
       "      <td>...</td>\n",
       "    </tr>\n",
       "    <tr>\n",
       "      <th>162</th>\n",
       "      <td>Vanuatu</td>\n",
       "      <td>29.2</td>\n",
       "      <td>46.6</td>\n",
       "      <td>5.25</td>\n",
       "      <td>52.7</td>\n",
       "      <td>2950</td>\n",
       "      <td>2.62</td>\n",
       "      <td>63.0</td>\n",
       "      <td>3.50</td>\n",
       "      <td>2970</td>\n",
       "    </tr>\n",
       "    <tr>\n",
       "      <th>163</th>\n",
       "      <td>Venezuela</td>\n",
       "      <td>17.1</td>\n",
       "      <td>28.5</td>\n",
       "      <td>4.91</td>\n",
       "      <td>17.6</td>\n",
       "      <td>16500</td>\n",
       "      <td>45.90</td>\n",
       "      <td>75.4</td>\n",
       "      <td>2.47</td>\n",
       "      <td>13500</td>\n",
       "    </tr>\n",
       "    <tr>\n",
       "      <th>164</th>\n",
       "      <td>Vietnam</td>\n",
       "      <td>23.3</td>\n",
       "      <td>72.0</td>\n",
       "      <td>6.84</td>\n",
       "      <td>80.2</td>\n",
       "      <td>4490</td>\n",
       "      <td>12.10</td>\n",
       "      <td>73.1</td>\n",
       "      <td>1.95</td>\n",
       "      <td>1310</td>\n",
       "    </tr>\n",
       "    <tr>\n",
       "      <th>165</th>\n",
       "      <td>Yemen</td>\n",
       "      <td>56.3</td>\n",
       "      <td>30.0</td>\n",
       "      <td>5.18</td>\n",
       "      <td>34.4</td>\n",
       "      <td>4480</td>\n",
       "      <td>23.60</td>\n",
       "      <td>67.5</td>\n",
       "      <td>4.67</td>\n",
       "      <td>1310</td>\n",
       "    </tr>\n",
       "    <tr>\n",
       "      <th>166</th>\n",
       "      <td>Zambia</td>\n",
       "      <td>83.1</td>\n",
       "      <td>37.0</td>\n",
       "      <td>5.89</td>\n",
       "      <td>30.9</td>\n",
       "      <td>3280</td>\n",
       "      <td>14.00</td>\n",
       "      <td>52.0</td>\n",
       "      <td>5.40</td>\n",
       "      <td>1460</td>\n",
       "    </tr>\n",
       "  </tbody>\n",
       "</table>\n",
       "<p>167 rows × 10 columns</p>\n",
       "</div>"
      ],
      "text/plain": [
       "                 country  child_mort  exports  health  imports  income  \\\n",
       "0            Afghanistan        90.2     10.0    7.58     44.9    1610   \n",
       "1                Albania        16.6     28.0    6.55     48.6    9930   \n",
       "2                Algeria        27.3     38.4    4.17     31.4   12900   \n",
       "3                 Angola       119.0     62.3    2.85     42.9    5900   \n",
       "4    Antigua and Barbuda        10.3     45.5    6.03     58.9   19100   \n",
       "..                   ...         ...      ...     ...      ...     ...   \n",
       "162              Vanuatu        29.2     46.6    5.25     52.7    2950   \n",
       "163            Venezuela        17.1     28.5    4.91     17.6   16500   \n",
       "164              Vietnam        23.3     72.0    6.84     80.2    4490   \n",
       "165                Yemen        56.3     30.0    5.18     34.4    4480   \n",
       "166               Zambia        83.1     37.0    5.89     30.9    3280   \n",
       "\n",
       "     inflation  life_expec  total_fer   gdpp  \n",
       "0         9.44        56.2       5.82    553  \n",
       "1         4.49        76.3       1.65   4090  \n",
       "2        16.10        76.5       2.89   4460  \n",
       "3        22.40        60.1       6.16   3530  \n",
       "4         1.44        76.8       2.13  12200  \n",
       "..         ...         ...        ...    ...  \n",
       "162       2.62        63.0       3.50   2970  \n",
       "163      45.90        75.4       2.47  13500  \n",
       "164      12.10        73.1       1.95   1310  \n",
       "165      23.60        67.5       4.67   1310  \n",
       "166      14.00        52.0       5.40   1460  \n",
       "\n",
       "[167 rows x 10 columns]"
      ]
     },
     "execution_count": 5,
     "metadata": {},
     "output_type": "execute_result"
    }
   ],
   "source": [
    "df = pd.read_csv(\"data/Country-data.csv\")\n",
    "df_data_dic = pd.read_csv(\"data/data-dictionary.csv\")\n",
    "df_data_dic.pop('Description')\n",
    "\n",
    "df"
   ]
  },
  {
   "cell_type": "code",
   "execution_count": 6,
   "metadata": {
    "ExecuteTime": {
     "end_time": "2023-04-24T10:50:55.304661Z",
     "start_time": "2023-04-24T10:50:07.061867Z"
    },
    "collapsed": false
   },
   "outputs": [
    {
     "data": {
      "text/html": [
       "<div>\n",
       "<style scoped>\n",
       "    .dataframe tbody tr th:only-of-type {\n",
       "        vertical-align: middle;\n",
       "    }\n",
       "\n",
       "    .dataframe tbody tr th {\n",
       "        vertical-align: top;\n",
       "    }\n",
       "\n",
       "    .dataframe thead th {\n",
       "        text-align: right;\n",
       "    }\n",
       "</style>\n",
       "<table border=\"1\" class=\"dataframe\">\n",
       "  <thead>\n",
       "    <tr style=\"text-align: right;\">\n",
       "      <th></th>\n",
       "      <th>Unnamed: 0</th>\n",
       "      <th>Column Name</th>\n",
       "      <th>Mean</th>\n",
       "      <th>Variance</th>\n",
       "      <th>Standard Deviation</th>\n",
       "    </tr>\n",
       "  </thead>\n",
       "  <tbody>\n",
       "    <tr>\n",
       "      <th>0</th>\n",
       "      <td>0</td>\n",
       "      <td>country</td>\n",
       "      <td>NaN</td>\n",
       "      <td>NaN</td>\n",
       "      <td>NaN</td>\n",
       "    </tr>\n",
       "    <tr>\n",
       "      <th>1</th>\n",
       "      <td>1</td>\n",
       "      <td>child_mort</td>\n",
       "      <td>38.270060</td>\n",
       "      <td>1.616684e+03</td>\n",
       "      <td>40.208005</td>\n",
       "    </tr>\n",
       "    <tr>\n",
       "      <th>2</th>\n",
       "      <td>2</td>\n",
       "      <td>exports</td>\n",
       "      <td>41.108976</td>\n",
       "      <td>7.469188e+02</td>\n",
       "      <td>27.329815</td>\n",
       "    </tr>\n",
       "    <tr>\n",
       "      <th>3</th>\n",
       "      <td>3</td>\n",
       "      <td>health</td>\n",
       "      <td>6.815689</td>\n",
       "      <td>7.499936e+00</td>\n",
       "      <td>2.738601</td>\n",
       "    </tr>\n",
       "    <tr>\n",
       "      <th>4</th>\n",
       "      <td>4</td>\n",
       "      <td>imports</td>\n",
       "      <td>46.890215</td>\n",
       "      <td>5.825946e+02</td>\n",
       "      <td>24.136996</td>\n",
       "    </tr>\n",
       "    <tr>\n",
       "      <th>5</th>\n",
       "      <td>5</td>\n",
       "      <td>Income</td>\n",
       "      <td>17144.688623</td>\n",
       "      <td>3.694185e+08</td>\n",
       "      <td>19220.262267</td>\n",
       "    </tr>\n",
       "    <tr>\n",
       "      <th>6</th>\n",
       "      <td>6</td>\n",
       "      <td>Inflation</td>\n",
       "      <td>7.781832</td>\n",
       "      <td>1.110707e+02</td>\n",
       "      <td>10.539008</td>\n",
       "    </tr>\n",
       "    <tr>\n",
       "      <th>7</th>\n",
       "      <td>7</td>\n",
       "      <td>life_expec</td>\n",
       "      <td>70.555689</td>\n",
       "      <td>7.861492e+01</td>\n",
       "      <td>8.866506</td>\n",
       "    </tr>\n",
       "    <tr>\n",
       "      <th>8</th>\n",
       "      <td>8</td>\n",
       "      <td>total_fer</td>\n",
       "      <td>2.947964</td>\n",
       "      <td>2.278011e+00</td>\n",
       "      <td>1.509308</td>\n",
       "    </tr>\n",
       "    <tr>\n",
       "      <th>9</th>\n",
       "      <td>9</td>\n",
       "      <td>gdpp</td>\n",
       "      <td>12964.155689</td>\n",
       "      <td>3.339298e+08</td>\n",
       "      <td>18273.746050</td>\n",
       "    </tr>\n",
       "  </tbody>\n",
       "</table>\n",
       "</div>"
      ],
      "text/plain": [
       "   Unnamed: 0 Column Name          Mean      Variance  Standard Deviation\n",
       "0           0     country           NaN           NaN                 NaN\n",
       "1           1  child_mort     38.270060  1.616684e+03           40.208005\n",
       "2           2     exports     41.108976  7.469188e+02           27.329815\n",
       "3           3      health      6.815689  7.499936e+00            2.738601\n",
       "4           4     imports     46.890215  5.825946e+02           24.136996\n",
       "5           5      Income  17144.688623  3.694185e+08        19220.262267\n",
       "6           6   Inflation      7.781832  1.110707e+02           10.539008\n",
       "7           7  life_expec     70.555689  7.861492e+01            8.866506\n",
       "8           8   total_fer      2.947964  2.278011e+00            1.509308\n",
       "9           9        gdpp  12964.155689  3.339298e+08        18273.746050"
      ]
     },
     "execution_count": 6,
     "metadata": {},
     "output_type": "execute_result"
    }
   ],
   "source": [
    "mean_res = [None]\n",
    "var_res = [None]\n",
    "st_dev_res = [None]\n",
    "for col_name in df.iloc[:, 1:]:\n",
    "    mean_res.append(np.mean(df[col_name]))\n",
    "    var_res.append(np.var(df[col_name]))\n",
    "    st_dev_res.append(np.sqrt(np.var(df[col_name])))\n",
    "\n",
    "#On crée les nouvelles colonnes pour ajouté de nouvelle donnée au csv\n",
    "df_data_dic[\"Mean\"] = mean_res\n",
    "df_data_dic[\"Variance\"] = var_res\n",
    "df_data_dic[\"Standard Deviation\"] = st_dev_res\n",
    "\n",
    "df_data_dic"
   ]
  },
  {
   "cell_type": "code",
   "execution_count": 7,
   "metadata": {},
   "outputs": [
    {
     "data": {
      "application/vnd.plotly.v1+json": {
       "config": {
        "plotlyServerURL": "https://plot.ly"
       },
       "data": [
        {
         "name": "child_mort",
         "type": "box",
         "x": [
          "child_mort",
          "child_mort",
          "child_mort",
          "child_mort",
          "child_mort",
          "child_mort",
          "child_mort",
          "child_mort",
          "child_mort",
          "child_mort",
          "child_mort",
          "child_mort",
          "child_mort",
          "child_mort",
          "child_mort",
          "child_mort",
          "child_mort",
          "child_mort",
          "child_mort",
          "child_mort",
          "child_mort",
          "child_mort",
          "child_mort",
          "child_mort",
          "child_mort",
          "child_mort",
          "child_mort",
          "child_mort",
          "child_mort",
          "child_mort",
          "child_mort",
          "child_mort",
          "child_mort",
          "child_mort",
          "child_mort",
          "child_mort",
          "child_mort",
          "child_mort",
          "child_mort",
          "child_mort",
          "child_mort",
          "child_mort",
          "child_mort",
          "child_mort",
          "child_mort",
          "child_mort",
          "child_mort",
          "child_mort",
          "child_mort",
          "child_mort",
          "child_mort",
          "child_mort",
          "child_mort",
          "child_mort",
          "child_mort",
          "child_mort",
          "child_mort",
          "child_mort",
          "child_mort",
          "child_mort",
          "child_mort",
          "child_mort",
          "child_mort",
          "child_mort",
          "child_mort",
          "child_mort",
          "child_mort",
          "child_mort",
          "child_mort",
          "child_mort",
          "child_mort",
          "child_mort",
          "child_mort",
          "child_mort",
          "child_mort",
          "child_mort",
          "child_mort",
          "child_mort",
          "child_mort",
          "child_mort",
          "child_mort",
          "child_mort",
          "child_mort",
          "child_mort",
          "child_mort",
          "child_mort",
          "child_mort",
          "child_mort",
          "child_mort",
          "child_mort",
          "child_mort",
          "child_mort",
          "child_mort",
          "child_mort",
          "child_mort",
          "child_mort",
          "child_mort",
          "child_mort",
          "child_mort",
          "child_mort",
          "child_mort",
          "child_mort",
          "child_mort",
          "child_mort",
          "child_mort",
          "child_mort",
          "child_mort",
          "child_mort",
          "child_mort",
          "child_mort",
          "child_mort",
          "child_mort",
          "child_mort",
          "child_mort",
          "child_mort",
          "child_mort",
          "child_mort",
          "child_mort",
          "child_mort",
          "child_mort",
          "child_mort",
          "child_mort",
          "child_mort",
          "child_mort",
          "child_mort",
          "child_mort",
          "child_mort",
          "child_mort",
          "child_mort",
          "child_mort",
          "child_mort",
          "child_mort",
          "child_mort",
          "child_mort",
          "child_mort",
          "child_mort",
          "child_mort",
          "child_mort",
          "child_mort",
          "child_mort",
          "child_mort",
          "child_mort",
          "child_mort",
          "child_mort",
          "child_mort",
          "child_mort",
          "child_mort",
          "child_mort",
          "child_mort",
          "child_mort",
          "child_mort",
          "child_mort",
          "child_mort",
          "child_mort",
          "child_mort",
          "child_mort",
          "child_mort",
          "child_mort",
          "child_mort",
          "child_mort",
          "child_mort",
          "child_mort",
          "child_mort",
          "child_mort",
          "child_mort",
          "child_mort",
          "child_mort"
         ],
         "xaxis": "x",
         "y": [
          90.2,
          16.6,
          27.3,
          119,
          10.3,
          14.5,
          18.1,
          4.8,
          4.3,
          39.2,
          13.8,
          8.6,
          49.4,
          14.2,
          5.5,
          4.5,
          18.8,
          111,
          42.7,
          46.6,
          6.9,
          52.5,
          19.8,
          10.5,
          10.8,
          116,
          93.6,
          44.4,
          108,
          5.6,
          26.5,
          149,
          150,
          8.7,
          15.7,
          18.6,
          88.2,
          116,
          63.9,
          10.2,
          111,
          5.5,
          3.6,
          3.4,
          4.1,
          34.4,
          25.1,
          29.1,
          19.2,
          111,
          55.2,
          4.5,
          24.1,
          3,
          4.2,
          63.7,
          80.3,
          16.5,
          4.2,
          74.7,
          3.9,
          14.6,
          35.4,
          109,
          114,
          37.6,
          208,
          6,
          2.6,
          58.8,
          33.3,
          19.3,
          36.9,
          4.2,
          4.6,
          4,
          18.1,
          3.2,
          21.1,
          21.5,
          62.2,
          62.7,
          10.8,
          29.6,
          78.9,
          7.8,
          10.3,
          99.7,
          89.3,
          16.6,
          6.1,
          2.8,
          10.4,
          62.2,
          90.5,
          7.9,
          13.2,
          137,
          6.8,
          97.4,
          15,
          40,
          17.2,
          26.1,
          6.8,
          33.5,
          101,
          64.4,
          56,
          47,
          4.5,
          6.2,
          123,
          130,
          3.2,
          11.7,
          92.1,
          19.7,
          24.1,
          20.3,
          31.9,
          6,
          3.9,
          9,
          11.5,
          10,
          63.6,
          18.9,
          15.7,
          66.8,
          7.6,
          14.4,
          160,
          2.8,
          7,
          3.2,
          28.1,
          53.7,
          4.1,
          3.8,
          11.2,
          20.7,
          76.7,
          24.1,
          3,
          4.5,
          52.4,
          71.9,
          14.9,
          62.6,
          90.3,
          17.4,
          17.4,
          19.1,
          62,
          81,
          11.7,
          8.6,
          5.2,
          7.3,
          10.6,
          36.3,
          29.2,
          17.1,
          23.3,
          56.3,
          83.1
         ],
         "yaxis": "y"
        },
        {
         "name": "exports",
         "type": "box",
         "x": [
          "exports",
          "exports",
          "exports",
          "exports",
          "exports",
          "exports",
          "exports",
          "exports",
          "exports",
          "exports",
          "exports",
          "exports",
          "exports",
          "exports",
          "exports",
          "exports",
          "exports",
          "exports",
          "exports",
          "exports",
          "exports",
          "exports",
          "exports",
          "exports",
          "exports",
          "exports",
          "exports",
          "exports",
          "exports",
          "exports",
          "exports",
          "exports",
          "exports",
          "exports",
          "exports",
          "exports",
          "exports",
          "exports",
          "exports",
          "exports",
          "exports",
          "exports",
          "exports",
          "exports",
          "exports",
          "exports",
          "exports",
          "exports",
          "exports",
          "exports",
          "exports",
          "exports",
          "exports",
          "exports",
          "exports",
          "exports",
          "exports",
          "exports",
          "exports",
          "exports",
          "exports",
          "exports",
          "exports",
          "exports",
          "exports",
          "exports",
          "exports",
          "exports",
          "exports",
          "exports",
          "exports",
          "exports",
          "exports",
          "exports",
          "exports",
          "exports",
          "exports",
          "exports",
          "exports",
          "exports",
          "exports",
          "exports",
          "exports",
          "exports",
          "exports",
          "exports",
          "exports",
          "exports",
          "exports",
          "exports",
          "exports",
          "exports",
          "exports",
          "exports",
          "exports",
          "exports",
          "exports",
          "exports",
          "exports",
          "exports",
          "exports",
          "exports",
          "exports",
          "exports",
          "exports",
          "exports",
          "exports",
          "exports",
          "exports",
          "exports",
          "exports",
          "exports",
          "exports",
          "exports",
          "exports",
          "exports",
          "exports",
          "exports",
          "exports",
          "exports",
          "exports",
          "exports",
          "exports",
          "exports",
          "exports",
          "exports",
          "exports",
          "exports",
          "exports",
          "exports",
          "exports",
          "exports",
          "exports",
          "exports",
          "exports",
          "exports",
          "exports",
          "exports",
          "exports",
          "exports",
          "exports",
          "exports",
          "exports",
          "exports",
          "exports",
          "exports",
          "exports",
          "exports",
          "exports",
          "exports",
          "exports",
          "exports",
          "exports",
          "exports",
          "exports",
          "exports",
          "exports",
          "exports",
          "exports",
          "exports",
          "exports",
          "exports",
          "exports",
          "exports",
          "exports",
          "exports",
          "exports"
         ],
         "xaxis": "x2",
         "y": [
          10,
          28,
          38.4,
          62.3,
          45.5,
          18.9,
          20.8,
          19.8,
          51.3,
          54.3,
          35,
          69.5,
          16,
          39.5,
          51.4,
          76.4,
          58.2,
          23.8,
          42.5,
          41.2,
          29.7,
          43.6,
          10.7,
          67.4,
          50.2,
          19.2,
          8.92,
          54.1,
          22.2,
          29.1,
          32.7,
          11.8,
          36.8,
          37.7,
          26.3,
          15.9,
          16.5,
          41.1,
          85.1,
          33.2,
          50.6,
          37.6,
          50.2,
          66,
          50.5,
          22.7,
          27.9,
          21.3,
          26.9,
          85.8,
          4.79,
          75.1,
          57.8,
          38.7,
          26.8,
          57.7,
          23.8,
          35,
          42.3,
          29.5,
          22.1,
          23.8,
          25.8,
          30.3,
          14.9,
          51.4,
          15.3,
          81.8,
          53.4,
          22.6,
          24.3,
          24.4,
          39.4,
          103,
          35,
          25.2,
          31.3,
          15,
          48.3,
          44.2,
          20.7,
          13.3,
          66.7,
          51.6,
          35.4,
          53.7,
          35.8,
          39.4,
          19.1,
          65.6,
          65.3,
          175,
          39.8,
          25,
          22.8,
          86.9,
          77.6,
          22.8,
          153,
          50.7,
          51.2,
          23.5,
          39.2,
          46.7,
          37,
          32.2,
          31.5,
          0.109,
          47.8,
          9.58,
          72,
          30.3,
          22.2,
          25.3,
          39.7,
          65.7,
          13.5,
          70,
          55.1,
          27.8,
          34.8,
          40.1,
          29.9,
          62.3,
          32.6,
          29.2,
          12,
          29.2,
          49.6,
          24.9,
          32.9,
          93.8,
          16.8,
          200,
          76.3,
          64.3,
          49.3,
          28.6,
          49.4,
          25.5,
          19.6,
          26.9,
          19.7,
          52.5,
          46.2,
          64,
          14.9,
          18.7,
          66.5,
          2.2,
          40.2,
          12.4,
          50.5,
          20.4,
          76.3,
          17.1,
          47.1,
          77.7,
          28.2,
          12.4,
          26.3,
          31.7,
          46.6,
          28.5,
          72,
          30,
          37
         ],
         "yaxis": "y2"
        },
        {
         "name": "health",
         "type": "box",
         "x": [
          "health",
          "health",
          "health",
          "health",
          "health",
          "health",
          "health",
          "health",
          "health",
          "health",
          "health",
          "health",
          "health",
          "health",
          "health",
          "health",
          "health",
          "health",
          "health",
          "health",
          "health",
          "health",
          "health",
          "health",
          "health",
          "health",
          "health",
          "health",
          "health",
          "health",
          "health",
          "health",
          "health",
          "health",
          "health",
          "health",
          "health",
          "health",
          "health",
          "health",
          "health",
          "health",
          "health",
          "health",
          "health",
          "health",
          "health",
          "health",
          "health",
          "health",
          "health",
          "health",
          "health",
          "health",
          "health",
          "health",
          "health",
          "health",
          "health",
          "health",
          "health",
          "health",
          "health",
          "health",
          "health",
          "health",
          "health",
          "health",
          "health",
          "health",
          "health",
          "health",
          "health",
          "health",
          "health",
          "health",
          "health",
          "health",
          "health",
          "health",
          "health",
          "health",
          "health",
          "health",
          "health",
          "health",
          "health",
          "health",
          "health",
          "health",
          "health",
          "health",
          "health",
          "health",
          "health",
          "health",
          "health",
          "health",
          "health",
          "health",
          "health",
          "health",
          "health",
          "health",
          "health",
          "health",
          "health",
          "health",
          "health",
          "health",
          "health",
          "health",
          "health",
          "health",
          "health",
          "health",
          "health",
          "health",
          "health",
          "health",
          "health",
          "health",
          "health",
          "health",
          "health",
          "health",
          "health",
          "health",
          "health",
          "health",
          "health",
          "health",
          "health",
          "health",
          "health",
          "health",
          "health",
          "health",
          "health",
          "health",
          "health",
          "health",
          "health",
          "health",
          "health",
          "health",
          "health",
          "health",
          "health",
          "health",
          "health",
          "health",
          "health",
          "health",
          "health",
          "health",
          "health",
          "health",
          "health",
          "health",
          "health",
          "health",
          "health",
          "health",
          "health",
          "health",
          "health"
         ],
         "xaxis": "x3",
         "y": [
          7.58,
          6.55,
          4.17,
          2.85,
          6.03,
          8.1,
          4.4,
          8.73,
          11,
          5.88,
          7.89,
          4.97,
          3.52,
          7.97,
          5.61,
          10.7,
          5.2,
          4.1,
          5.2,
          4.84,
          11.1,
          8.3,
          9.01,
          2.84,
          6.87,
          6.74,
          11.6,
          5.68,
          5.13,
          11.3,
          4.09,
          3.98,
          4.53,
          7.96,
          5.07,
          7.59,
          4.51,
          7.91,
          2.46,
          10.9,
          5.3,
          7.76,
          5.97,
          7.88,
          11.4,
          6.22,
          8.06,
          4.66,
          6.91,
          4.48,
          2.66,
          6.03,
          4.86,
          8.95,
          11.9,
          3.5,
          5.69,
          10.1,
          11.6,
          5.22,
          10.3,
          5.86,
          6.85,
          4.93,
          8.5,
          5.38,
          6.91,
          7.33,
          9.4,
          4.05,
          2.61,
          5.6,
          8.41,
          9.19,
          7.63,
          9.53,
          4.81,
          9.49,
          8.04,
          4.29,
          4.75,
          11.3,
          2.63,
          6.18,
          4.47,
          6.68,
          7.03,
          11.1,
          11.8,
          3.88,
          7.04,
          7.77,
          7.09,
          3.77,
          6.59,
          4.39,
          6.33,
          4.98,
          8.65,
          4.41,
          6,
          14.2,
          11.7,
          5.44,
          9.11,
          5.2,
          5.21,
          1.97,
          6.78,
          5.25,
          11.9,
          10.1,
          5.16,
          5.07,
          9.48,
          2.77,
          2.2,
          8.1,
          5.87,
          5.08,
          3.61,
          7.46,
          11,
          1.81,
          5.58,
          5.08,
          10.5,
          6.47,
          4.29,
          5.66,
          10.4,
          3.4,
          13.1,
          3.96,
          8.79,
          9.41,
          8.55,
          8.94,
          6.93,
          9.54,
          2.94,
          4.47,
          6.32,
          7.01,
          9.63,
          11.5,
          5.98,
          6.01,
          3.88,
          9.12,
          7.65,
          5.07,
          6.21,
          6.74,
          2.5,
          9.01,
          7.72,
          3.66,
          9.64,
          17.9,
          8.35,
          5.81,
          5.25,
          4.91,
          6.84,
          5.18,
          5.89
         ],
         "yaxis": "y3"
        },
        {
         "name": "imports",
         "type": "box",
         "x": [
          "imports",
          "imports",
          "imports",
          "imports",
          "imports",
          "imports",
          "imports",
          "imports",
          "imports",
          "imports",
          "imports",
          "imports",
          "imports",
          "imports",
          "imports",
          "imports",
          "imports",
          "imports",
          "imports",
          "imports",
          "imports",
          "imports",
          "imports",
          "imports",
          "imports",
          "imports",
          "imports",
          "imports",
          "imports",
          "imports",
          "imports",
          "imports",
          "imports",
          "imports",
          "imports",
          "imports",
          "imports",
          "imports",
          "imports",
          "imports",
          "imports",
          "imports",
          "imports",
          "imports",
          "imports",
          "imports",
          "imports",
          "imports",
          "imports",
          "imports",
          "imports",
          "imports",
          "imports",
          "imports",
          "imports",
          "imports",
          "imports",
          "imports",
          "imports",
          "imports",
          "imports",
          "imports",
          "imports",
          "imports",
          "imports",
          "imports",
          "imports",
          "imports",
          "imports",
          "imports",
          "imports",
          "imports",
          "imports",
          "imports",
          "imports",
          "imports",
          "imports",
          "imports",
          "imports",
          "imports",
          "imports",
          "imports",
          "imports",
          "imports",
          "imports",
          "imports",
          "imports",
          "imports",
          "imports",
          "imports",
          "imports",
          "imports",
          "imports",
          "imports",
          "imports",
          "imports",
          "imports",
          "imports",
          "imports",
          "imports",
          "imports",
          "imports",
          "imports",
          "imports",
          "imports",
          "imports",
          "imports",
          "imports",
          "imports",
          "imports",
          "imports",
          "imports",
          "imports",
          "imports",
          "imports",
          "imports",
          "imports",
          "imports",
          "imports",
          "imports",
          "imports",
          "imports",
          "imports",
          "imports",
          "imports",
          "imports",
          "imports",
          "imports",
          "imports",
          "imports",
          "imports",
          "imports",
          "imports",
          "imports",
          "imports",
          "imports",
          "imports",
          "imports",
          "imports",
          "imports",
          "imports",
          "imports",
          "imports",
          "imports",
          "imports",
          "imports",
          "imports",
          "imports",
          "imports",
          "imports",
          "imports",
          "imports",
          "imports",
          "imports",
          "imports",
          "imports",
          "imports",
          "imports",
          "imports",
          "imports",
          "imports",
          "imports",
          "imports",
          "imports",
          "imports",
          "imports",
          "imports"
         ],
         "xaxis": "x4",
         "y": [
          44.9,
          48.6,
          31.4,
          42.9,
          58.9,
          16,
          45.3,
          20.9,
          47.8,
          20.7,
          43.7,
          50.9,
          21.8,
          48.7,
          64.5,
          74.7,
          57.5,
          37.2,
          70.7,
          34.3,
          51.3,
          51.3,
          11.8,
          28,
          53,
          29.6,
          39.2,
          59.5,
          27,
          31,
          61.8,
          26.5,
          43.5,
          31.3,
          22.6,
          17.8,
          51.7,
          49.6,
          54.7,
          35,
          43.3,
          38.1,
          57.5,
          62.9,
          43.6,
          33.3,
          32.4,
          26.6,
          46.6,
          58.9,
          23.3,
          68.7,
          63.9,
          37.4,
          28.1,
          18.9,
          42.7,
          52.8,
          37.1,
          45.9,
          30.7,
          49.2,
          36.3,
          43.2,
          35.2,
          79.1,
          64.7,
          76.5,
          43.3,
          27.1,
          22.4,
          19.4,
          34.1,
          86.5,
          32.9,
          27.2,
          49.6,
          13.6,
          69,
          29.9,
          33.6,
          79.9,
          30.4,
          81.7,
          49.3,
          55.1,
          60.2,
          101,
          92.6,
          42.1,
          67.2,
          142,
          58.1,
          43,
          34.9,
          71,
          65.4,
          35.1,
          154,
          61.2,
          62.2,
          81,
          78.5,
          56.7,
          62.7,
          43,
          46.2,
          0.0659,
          60.7,
          36.4,
          63.6,
          28,
          49.1,
          17.4,
          28.5,
          41.2,
          19.4,
          78.2,
          51.5,
          23.8,
          36.6,
          42.1,
          37.4,
          23.8,
          38.8,
          21.1,
          30,
          53.1,
          33,
          40.3,
          47.9,
          108,
          34.5,
          174,
          77.8,
          62.9,
          81.2,
          27.4,
          46.2,
          26.8,
          26.8,
          57.1,
          17.2,
          38.4,
          40.7,
          53.3,
          58.6,
          29.1,
          60.8,
          27.8,
          57.3,
          60.3,
          55.3,
          25.5,
          44.5,
          28.6,
          51.1,
          63.6,
          30.8,
          15.8,
          25.4,
          28.5,
          52.7,
          17.6,
          80.2,
          34.4,
          30.9
         ],
         "yaxis": "y4"
        },
        {
         "name": "income",
         "type": "box",
         "x": [
          "income",
          "income",
          "income",
          "income",
          "income",
          "income",
          "income",
          "income",
          "income",
          "income",
          "income",
          "income",
          "income",
          "income",
          "income",
          "income",
          "income",
          "income",
          "income",
          "income",
          "income",
          "income",
          "income",
          "income",
          "income",
          "income",
          "income",
          "income",
          "income",
          "income",
          "income",
          "income",
          "income",
          "income",
          "income",
          "income",
          "income",
          "income",
          "income",
          "income",
          "income",
          "income",
          "income",
          "income",
          "income",
          "income",
          "income",
          "income",
          "income",
          "income",
          "income",
          "income",
          "income",
          "income",
          "income",
          "income",
          "income",
          "income",
          "income",
          "income",
          "income",
          "income",
          "income",
          "income",
          "income",
          "income",
          "income",
          "income",
          "income",
          "income",
          "income",
          "income",
          "income",
          "income",
          "income",
          "income",
          "income",
          "income",
          "income",
          "income",
          "income",
          "income",
          "income",
          "income",
          "income",
          "income",
          "income",
          "income",
          "income",
          "income",
          "income",
          "income",
          "income",
          "income",
          "income",
          "income",
          "income",
          "income",
          "income",
          "income",
          "income",
          "income",
          "income",
          "income",
          "income",
          "income",
          "income",
          "income",
          "income",
          "income",
          "income",
          "income",
          "income",
          "income",
          "income",
          "income",
          "income",
          "income",
          "income",
          "income",
          "income",
          "income",
          "income",
          "income",
          "income",
          "income",
          "income",
          "income",
          "income",
          "income",
          "income",
          "income",
          "income",
          "income",
          "income",
          "income",
          "income",
          "income",
          "income",
          "income",
          "income",
          "income",
          "income",
          "income",
          "income",
          "income",
          "income",
          "income",
          "income",
          "income",
          "income",
          "income",
          "income",
          "income",
          "income",
          "income",
          "income",
          "income",
          "income",
          "income",
          "income",
          "income",
          "income",
          "income",
          "income",
          "income",
          "income"
         ],
         "xaxis": "x5",
         "y": [
          1610,
          9930,
          12900,
          5900,
          19100,
          18700,
          6700,
          41400,
          43200,
          16000,
          22900,
          41100,
          2440,
          15300,
          16200,
          41100,
          7880,
          1820,
          6420,
          5410,
          9720,
          13300,
          14500,
          80600,
          15300,
          1430,
          764,
          2520,
          2660,
          40700,
          5830,
          888,
          1930,
          19400,
          9530,
          10900,
          1410,
          609,
          5190,
          13000,
          2690,
          20100,
          33900,
          28300,
          44000,
          11100,
          9350,
          9860,
          7300,
          33700,
          1420,
          22700,
          7350,
          39800,
          36900,
          15400,
          1660,
          6730,
          40400,
          3060,
          28700,
          11200,
          6710,
          1190,
          1390,
          5840,
          1500,
          22300,
          38800,
          4410,
          8430,
          17400,
          12700,
          45700,
          29600,
          36200,
          8000,
          35800,
          9470,
          20100,
          2480,
          1730,
          75200,
          2790,
          3980,
          18300,
          16300,
          2380,
          700,
          29600,
          21100,
          91700,
          11400,
          1390,
          1030,
          21100,
          10500,
          1870,
          28300,
          3320,
          15900,
          3340,
          3910,
          7710,
          14000,
          6440,
          918,
          3720,
          8460,
          1990,
          45500,
          32300,
          814,
          5150,
          62300,
          45300,
          4280,
          15400,
          7290,
          9960,
          5600,
          21800,
          27200,
          125000,
          17800,
          23100,
          1350,
          5400,
          45400,
          2180,
          12700,
          20400,
          1220,
          72100,
          25200,
          28700,
          1780,
          12000,
          30400,
          32500,
          8560,
          9920,
          3370,
          14200,
          42900,
          55500,
          2110,
          2090,
          13500,
          1850,
          1210,
          4980,
          10400,
          18000,
          9940,
          1540,
          7820,
          57600,
          36200,
          49400,
          17100,
          4240,
          2950,
          16500,
          4490,
          4480,
          3280
         ],
         "yaxis": "y5"
        },
        {
         "name": "inflation",
         "type": "box",
         "x": [
          "inflation",
          "inflation",
          "inflation",
          "inflation",
          "inflation",
          "inflation",
          "inflation",
          "inflation",
          "inflation",
          "inflation",
          "inflation",
          "inflation",
          "inflation",
          "inflation",
          "inflation",
          "inflation",
          "inflation",
          "inflation",
          "inflation",
          "inflation",
          "inflation",
          "inflation",
          "inflation",
          "inflation",
          "inflation",
          "inflation",
          "inflation",
          "inflation",
          "inflation",
          "inflation",
          "inflation",
          "inflation",
          "inflation",
          "inflation",
          "inflation",
          "inflation",
          "inflation",
          "inflation",
          "inflation",
          "inflation",
          "inflation",
          "inflation",
          "inflation",
          "inflation",
          "inflation",
          "inflation",
          "inflation",
          "inflation",
          "inflation",
          "inflation",
          "inflation",
          "inflation",
          "inflation",
          "inflation",
          "inflation",
          "inflation",
          "inflation",
          "inflation",
          "inflation",
          "inflation",
          "inflation",
          "inflation",
          "inflation",
          "inflation",
          "inflation",
          "inflation",
          "inflation",
          "inflation",
          "inflation",
          "inflation",
          "inflation",
          "inflation",
          "inflation",
          "inflation",
          "inflation",
          "inflation",
          "inflation",
          "inflation",
          "inflation",
          "inflation",
          "inflation",
          "inflation",
          "inflation",
          "inflation",
          "inflation",
          "inflation",
          "inflation",
          "inflation",
          "inflation",
          "inflation",
          "inflation",
          "inflation",
          "inflation",
          "inflation",
          "inflation",
          "inflation",
          "inflation",
          "inflation",
          "inflation",
          "inflation",
          "inflation",
          "inflation",
          "inflation",
          "inflation",
          "inflation",
          "inflation",
          "inflation",
          "inflation",
          "inflation",
          "inflation",
          "inflation",
          "inflation",
          "inflation",
          "inflation",
          "inflation",
          "inflation",
          "inflation",
          "inflation",
          "inflation",
          "inflation",
          "inflation",
          "inflation",
          "inflation",
          "inflation",
          "inflation",
          "inflation",
          "inflation",
          "inflation",
          "inflation",
          "inflation",
          "inflation",
          "inflation",
          "inflation",
          "inflation",
          "inflation",
          "inflation",
          "inflation",
          "inflation",
          "inflation",
          "inflation",
          "inflation",
          "inflation",
          "inflation",
          "inflation",
          "inflation",
          "inflation",
          "inflation",
          "inflation",
          "inflation",
          "inflation",
          "inflation",
          "inflation",
          "inflation",
          "inflation",
          "inflation",
          "inflation",
          "inflation",
          "inflation",
          "inflation",
          "inflation",
          "inflation",
          "inflation",
          "inflation",
          "inflation",
          "inflation",
          "inflation",
          "inflation"
         ],
         "xaxis": "x6",
         "y": [
          9.44,
          4.49,
          16.1,
          22.4,
          1.44,
          20.9,
          7.77,
          1.16,
          0.873,
          13.8,
          -0.393,
          7.44,
          7.14,
          0.321,
          15.1,
          1.88,
          1.14,
          0.885,
          5.99,
          8.78,
          1.4,
          8.92,
          8.41,
          16.7,
          1.11,
          6.81,
          12.3,
          3.12,
          1.91,
          2.87,
          0.505,
          2.01,
          6.39,
          8.96,
          6.94,
          3.86,
          3.87,
          20.8,
          20.7,
          6.57,
          5.39,
          0.821,
          2.01,
          -1.43,
          3.22,
          5.44,
          7.47,
          10.1,
          2.65,
          24.9,
          11.6,
          1.74,
          4.23,
          0.351,
          1.05,
          16.6,
          4.3,
          8.55,
          0.758,
          16.6,
          0.673,
          0.48,
          5.14,
          16.1,
          2.97,
          5.73,
          5.45,
          2.33,
          5.47,
          8.98,
          15.3,
          15.9,
          16.6,
          -3.22,
          1.77,
          0.319,
          9.81,
          -1.9,
          8.43,
          19.5,
          2.09,
          1.52,
          11.2,
          10,
          9.2,
          -0.812,
          0.238,
          4.15,
          5.47,
          14.2,
          2.38,
          3.62,
          2.04,
          8.79,
          12.1,
          7.27,
          2.88,
          4.37,
          3.83,
          18.9,
          1.13,
          3.8,
          11.1,
          39.2,
          1.6,
          0.976,
          7.64,
          7.04,
          3.56,
          15.1,
          0.848,
          3.73,
          2.55,
          104,
          5.95,
          15.6,
          10.9,
          2.59,
          6.1,
          5.71,
          4.22,
          1.66,
          0.643,
          6.98,
          3.53,
          14.2,
          2.61,
          1.72,
          17.2,
          1.85,
          5.88,
          -4.21,
          17.2,
          -0.046,
          0.485,
          -0.987,
          6.81,
          6.35,
          3.16,
          0.16,
          22.8,
          4.44,
          19.6,
          7.2,
          0.991,
          0.317,
          12.5,
          9.25,
          4.08,
          26.5,
          1.18,
          3.68,
          3.82,
          7.01,
          2.31,
          10.6,
          13.4,
          12.5,
          1.57,
          1.22,
          4.91,
          16.5,
          2.62,
          45.9,
          12.1,
          23.6,
          14
         ],
         "yaxis": "y6"
        },
        {
         "name": "life_expec",
         "type": "box",
         "x": [
          "life_expec",
          "life_expec",
          "life_expec",
          "life_expec",
          "life_expec",
          "life_expec",
          "life_expec",
          "life_expec",
          "life_expec",
          "life_expec",
          "life_expec",
          "life_expec",
          "life_expec",
          "life_expec",
          "life_expec",
          "life_expec",
          "life_expec",
          "life_expec",
          "life_expec",
          "life_expec",
          "life_expec",
          "life_expec",
          "life_expec",
          "life_expec",
          "life_expec",
          "life_expec",
          "life_expec",
          "life_expec",
          "life_expec",
          "life_expec",
          "life_expec",
          "life_expec",
          "life_expec",
          "life_expec",
          "life_expec",
          "life_expec",
          "life_expec",
          "life_expec",
          "life_expec",
          "life_expec",
          "life_expec",
          "life_expec",
          "life_expec",
          "life_expec",
          "life_expec",
          "life_expec",
          "life_expec",
          "life_expec",
          "life_expec",
          "life_expec",
          "life_expec",
          "life_expec",
          "life_expec",
          "life_expec",
          "life_expec",
          "life_expec",
          "life_expec",
          "life_expec",
          "life_expec",
          "life_expec",
          "life_expec",
          "life_expec",
          "life_expec",
          "life_expec",
          "life_expec",
          "life_expec",
          "life_expec",
          "life_expec",
          "life_expec",
          "life_expec",
          "life_expec",
          "life_expec",
          "life_expec",
          "life_expec",
          "life_expec",
          "life_expec",
          "life_expec",
          "life_expec",
          "life_expec",
          "life_expec",
          "life_expec",
          "life_expec",
          "life_expec",
          "life_expec",
          "life_expec",
          "life_expec",
          "life_expec",
          "life_expec",
          "life_expec",
          "life_expec",
          "life_expec",
          "life_expec",
          "life_expec",
          "life_expec",
          "life_expec",
          "life_expec",
          "life_expec",
          "life_expec",
          "life_expec",
          "life_expec",
          "life_expec",
          "life_expec",
          "life_expec",
          "life_expec",
          "life_expec",
          "life_expec",
          "life_expec",
          "life_expec",
          "life_expec",
          "life_expec",
          "life_expec",
          "life_expec",
          "life_expec",
          "life_expec",
          "life_expec",
          "life_expec",
          "life_expec",
          "life_expec",
          "life_expec",
          "life_expec",
          "life_expec",
          "life_expec",
          "life_expec",
          "life_expec",
          "life_expec",
          "life_expec",
          "life_expec",
          "life_expec",
          "life_expec",
          "life_expec",
          "life_expec",
          "life_expec",
          "life_expec",
          "life_expec",
          "life_expec",
          "life_expec",
          "life_expec",
          "life_expec",
          "life_expec",
          "life_expec",
          "life_expec",
          "life_expec",
          "life_expec",
          "life_expec",
          "life_expec",
          "life_expec",
          "life_expec",
          "life_expec",
          "life_expec",
          "life_expec",
          "life_expec",
          "life_expec",
          "life_expec",
          "life_expec",
          "life_expec",
          "life_expec",
          "life_expec",
          "life_expec",
          "life_expec",
          "life_expec",
          "life_expec",
          "life_expec",
          "life_expec",
          "life_expec",
          "life_expec",
          "life_expec",
          "life_expec"
         ],
         "xaxis": "x7",
         "y": [
          56.2,
          76.3,
          76.5,
          60.1,
          76.8,
          75.8,
          73.3,
          82,
          80.5,
          69.1,
          73.8,
          76,
          70.4,
          76.7,
          70.4,
          80,
          71.4,
          61.8,
          72.1,
          71.6,
          76.8,
          57.1,
          74.2,
          77.1,
          73.9,
          57.9,
          57.7,
          66.1,
          57.3,
          81.3,
          72.5,
          47.5,
          56.5,
          79.1,
          74.6,
          76.4,
          65.9,
          57.5,
          60.4,
          80.4,
          56.3,
          76.3,
          79.9,
          77.5,
          79.5,
          74.6,
          76.7,
          70.5,
          74.1,
          60.9,
          61.7,
          76,
          65.3,
          80,
          81.4,
          62.9,
          65.5,
          72.8,
          80.1,
          62.2,
          80.4,
          71.3,
          71.3,
          58,
          55.6,
          65.5,
          32.1,
          74.5,
          82,
          66.2,
          69.9,
          74.5,
          67.2,
          80.4,
          81.4,
          81.7,
          74.7,
          82.8,
          75.8,
          68.4,
          62.8,
          60.7,
          78.2,
          68.5,
          63.8,
          73.1,
          79.8,
          46.5,
          60.8,
          76.1,
          73.2,
          81.3,
          74,
          60.8,
          53.1,
          74.5,
          77.9,
          59.5,
          80.3,
          68.2,
          73.4,
          65.4,
          69.7,
          66.2,
          76.4,
          73.5,
          54.5,
          66.8,
          58.6,
          68.3,
          80.7,
          80.9,
          58.8,
          60.5,
          81,
          76.1,
          65.3,
          77.8,
          74.1,
          77.9,
          69,
          76.3,
          79.8,
          79.5,
          73.7,
          69.2,
          64.6,
          71.5,
          75.1,
          64,
          74.7,
          73.4,
          55,
          82.7,
          75.5,
          79.5,
          61.7,
          54.3,
          80.1,
          81.9,
          74.4,
          71.6,
          66.3,
          70.3,
          81.5,
          82.2,
          69.6,
          59.3,
          76.6,
          71.1,
          58.7,
          69.9,
          76.9,
          78.2,
          67.9,
          56.8,
          70.4,
          76.5,
          80.3,
          78.7,
          76.4,
          68.8,
          63,
          75.4,
          73.1,
          67.5,
          52
         ],
         "yaxis": "y7"
        },
        {
         "name": "total_fer",
         "type": "box",
         "x": [
          "total_fer",
          "total_fer",
          "total_fer",
          "total_fer",
          "total_fer",
          "total_fer",
          "total_fer",
          "total_fer",
          "total_fer",
          "total_fer",
          "total_fer",
          "total_fer",
          "total_fer",
          "total_fer",
          "total_fer",
          "total_fer",
          "total_fer",
          "total_fer",
          "total_fer",
          "total_fer",
          "total_fer",
          "total_fer",
          "total_fer",
          "total_fer",
          "total_fer",
          "total_fer",
          "total_fer",
          "total_fer",
          "total_fer",
          "total_fer",
          "total_fer",
          "total_fer",
          "total_fer",
          "total_fer",
          "total_fer",
          "total_fer",
          "total_fer",
          "total_fer",
          "total_fer",
          "total_fer",
          "total_fer",
          "total_fer",
          "total_fer",
          "total_fer",
          "total_fer",
          "total_fer",
          "total_fer",
          "total_fer",
          "total_fer",
          "total_fer",
          "total_fer",
          "total_fer",
          "total_fer",
          "total_fer",
          "total_fer",
          "total_fer",
          "total_fer",
          "total_fer",
          "total_fer",
          "total_fer",
          "total_fer",
          "total_fer",
          "total_fer",
          "total_fer",
          "total_fer",
          "total_fer",
          "total_fer",
          "total_fer",
          "total_fer",
          "total_fer",
          "total_fer",
          "total_fer",
          "total_fer",
          "total_fer",
          "total_fer",
          "total_fer",
          "total_fer",
          "total_fer",
          "total_fer",
          "total_fer",
          "total_fer",
          "total_fer",
          "total_fer",
          "total_fer",
          "total_fer",
          "total_fer",
          "total_fer",
          "total_fer",
          "total_fer",
          "total_fer",
          "total_fer",
          "total_fer",
          "total_fer",
          "total_fer",
          "total_fer",
          "total_fer",
          "total_fer",
          "total_fer",
          "total_fer",
          "total_fer",
          "total_fer",
          "total_fer",
          "total_fer",
          "total_fer",
          "total_fer",
          "total_fer",
          "total_fer",
          "total_fer",
          "total_fer",
          "total_fer",
          "total_fer",
          "total_fer",
          "total_fer",
          "total_fer",
          "total_fer",
          "total_fer",
          "total_fer",
          "total_fer",
          "total_fer",
          "total_fer",
          "total_fer",
          "total_fer",
          "total_fer",
          "total_fer",
          "total_fer",
          "total_fer",
          "total_fer",
          "total_fer",
          "total_fer",
          "total_fer",
          "total_fer",
          "total_fer",
          "total_fer",
          "total_fer",
          "total_fer",
          "total_fer",
          "total_fer",
          "total_fer",
          "total_fer",
          "total_fer",
          "total_fer",
          "total_fer",
          "total_fer",
          "total_fer",
          "total_fer",
          "total_fer",
          "total_fer",
          "total_fer",
          "total_fer",
          "total_fer",
          "total_fer",
          "total_fer",
          "total_fer",
          "total_fer",
          "total_fer",
          "total_fer",
          "total_fer",
          "total_fer",
          "total_fer",
          "total_fer",
          "total_fer",
          "total_fer",
          "total_fer",
          "total_fer",
          "total_fer",
          "total_fer",
          "total_fer"
         ],
         "xaxis": "x8",
         "y": [
          5.82,
          1.65,
          2.89,
          6.16,
          2.13,
          2.37,
          1.69,
          1.93,
          1.44,
          1.92,
          1.86,
          2.16,
          2.33,
          1.78,
          1.49,
          1.86,
          2.71,
          5.36,
          2.38,
          3.2,
          1.31,
          2.88,
          1.8,
          1.84,
          1.57,
          5.87,
          6.26,
          2.88,
          5.11,
          1.63,
          2.67,
          5.21,
          6.59,
          1.88,
          1.59,
          2.01,
          4.75,
          6.54,
          4.95,
          1.92,
          5.27,
          1.55,
          1.42,
          1.51,
          1.87,
          2.6,
          2.66,
          3.19,
          2.27,
          5.21,
          4.61,
          1.72,
          2.67,
          1.87,
          2.03,
          4.08,
          5.71,
          1.92,
          1.39,
          4.27,
          1.48,
          2.24,
          3.38,
          5.34,
          5.05,
          2.65,
          3.33,
          1.25,
          2.2,
          2.6,
          2.48,
          1.76,
          4.56,
          2.05,
          3.03,
          1.46,
          2.17,
          1.39,
          3.66,
          2.6,
          4.37,
          3.84,
          2.21,
          3.1,
          3.15,
          1.36,
          1.61,
          3.3,
          5.02,
          2.41,
          1.5,
          1.63,
          1.47,
          4.6,
          5.31,
          2.15,
          2.23,
          6.55,
          1.36,
          4.98,
          1.57,
          3.46,
          1.27,
          2.64,
          1.77,
          2.58,
          5.56,
          2.41,
          3.6,
          2.61,
          1.79,
          2.17,
          7.49,
          5.84,
          1.95,
          2.9,
          3.85,
          2.62,
          2.73,
          2.54,
          3.16,
          1.41,
          1.39,
          2.07,
          1.59,
          1.57,
          4.51,
          4.34,
          2.96,
          5.06,
          1.4,
          2.17,
          5.2,
          1.15,
          1.43,
          1.57,
          4.24,
          2.59,
          1.23,
          1.37,
          2.2,
          2.07,
          4.88,
          2.52,
          1.98,
          1.52,
          3.51,
          5.43,
          1.55,
          6.23,
          4.87,
          3.91,
          2.14,
          2.15,
          2.83,
          6.15,
          1.44,
          1.87,
          1.92,
          1.93,
          2.08,
          2.34,
          3.5,
          2.47,
          1.95,
          4.67,
          5.4
         ],
         "yaxis": "y8"
        },
        {
         "name": "gdpp",
         "type": "box",
         "x": [
          "gdpp",
          "gdpp",
          "gdpp",
          "gdpp",
          "gdpp",
          "gdpp",
          "gdpp",
          "gdpp",
          "gdpp",
          "gdpp",
          "gdpp",
          "gdpp",
          "gdpp",
          "gdpp",
          "gdpp",
          "gdpp",
          "gdpp",
          "gdpp",
          "gdpp",
          "gdpp",
          "gdpp",
          "gdpp",
          "gdpp",
          "gdpp",
          "gdpp",
          "gdpp",
          "gdpp",
          "gdpp",
          "gdpp",
          "gdpp",
          "gdpp",
          "gdpp",
          "gdpp",
          "gdpp",
          "gdpp",
          "gdpp",
          "gdpp",
          "gdpp",
          "gdpp",
          "gdpp",
          "gdpp",
          "gdpp",
          "gdpp",
          "gdpp",
          "gdpp",
          "gdpp",
          "gdpp",
          "gdpp",
          "gdpp",
          "gdpp",
          "gdpp",
          "gdpp",
          "gdpp",
          "gdpp",
          "gdpp",
          "gdpp",
          "gdpp",
          "gdpp",
          "gdpp",
          "gdpp",
          "gdpp",
          "gdpp",
          "gdpp",
          "gdpp",
          "gdpp",
          "gdpp",
          "gdpp",
          "gdpp",
          "gdpp",
          "gdpp",
          "gdpp",
          "gdpp",
          "gdpp",
          "gdpp",
          "gdpp",
          "gdpp",
          "gdpp",
          "gdpp",
          "gdpp",
          "gdpp",
          "gdpp",
          "gdpp",
          "gdpp",
          "gdpp",
          "gdpp",
          "gdpp",
          "gdpp",
          "gdpp",
          "gdpp",
          "gdpp",
          "gdpp",
          "gdpp",
          "gdpp",
          "gdpp",
          "gdpp",
          "gdpp",
          "gdpp",
          "gdpp",
          "gdpp",
          "gdpp",
          "gdpp",
          "gdpp",
          "gdpp",
          "gdpp",
          "gdpp",
          "gdpp",
          "gdpp",
          "gdpp",
          "gdpp",
          "gdpp",
          "gdpp",
          "gdpp",
          "gdpp",
          "gdpp",
          "gdpp",
          "gdpp",
          "gdpp",
          "gdpp",
          "gdpp",
          "gdpp",
          "gdpp",
          "gdpp",
          "gdpp",
          "gdpp",
          "gdpp",
          "gdpp",
          "gdpp",
          "gdpp",
          "gdpp",
          "gdpp",
          "gdpp",
          "gdpp",
          "gdpp",
          "gdpp",
          "gdpp",
          "gdpp",
          "gdpp",
          "gdpp",
          "gdpp",
          "gdpp",
          "gdpp",
          "gdpp",
          "gdpp",
          "gdpp",
          "gdpp",
          "gdpp",
          "gdpp",
          "gdpp",
          "gdpp",
          "gdpp",
          "gdpp",
          "gdpp",
          "gdpp",
          "gdpp",
          "gdpp",
          "gdpp",
          "gdpp",
          "gdpp",
          "gdpp",
          "gdpp",
          "gdpp",
          "gdpp",
          "gdpp",
          "gdpp",
          "gdpp",
          "gdpp",
          "gdpp"
         ],
         "xaxis": "x9",
         "y": [
          553,
          4090,
          4460,
          3530,
          12200,
          10300,
          3220,
          51900,
          46900,
          5840,
          28000,
          20700,
          758,
          16000,
          6030,
          44400,
          4340,
          758,
          2180,
          1980,
          4610,
          6350,
          11200,
          35300,
          6840,
          575,
          231,
          786,
          1310,
          47400,
          3310,
          446,
          897,
          12900,
          4560,
          6250,
          769,
          334,
          2740,
          8200,
          1220,
          13500,
          30800,
          19800,
          58000,
          5450,
          4660,
          2600,
          2990,
          17100,
          482,
          14600,
          3650,
          46200,
          40600,
          8750,
          562,
          2960,
          41800,
          1310,
          26900,
          7370,
          2830,
          648,
          547,
          3040,
          662,
          13100,
          41900,
          1350,
          3110,
          6530,
          4500,
          48700,
          30600,
          35800,
          4680,
          44500,
          3680,
          9070,
          967,
          1490,
          38500,
          880,
          1140,
          11300,
          8860,
          1170,
          327,
          12100,
          12000,
          105000,
          4540,
          413,
          459,
          9070,
          7100,
          708,
          21100,
          1200,
          8000,
          2860,
          1630,
          2650,
          6680,
          2830,
          419,
          988,
          5190,
          592,
          50300,
          33700,
          348,
          2330,
          87800,
          19300,
          1040,
          8080,
          3230,
          5020,
          2130,
          12600,
          22500,
          70300,
          8230,
          10700,
          563,
          3450,
          19300,
          1000,
          5410,
          10800,
          399,
          46600,
          16600,
          23400,
          1290,
          7280,
          22100,
          30700,
          2810,
          6230,
          1480,
          8300,
          52100,
          74600,
          738,
          702,
          5080,
          3600,
          488,
          3550,
          4140,
          10700,
          4440,
          595,
          2970,
          35000,
          38900,
          48400,
          11900,
          1380,
          2970,
          13500,
          1310,
          1310,
          1460
         ],
         "yaxis": "y9"
        }
       ],
       "layout": {
        "template": {
         "data": {
          "bar": [
           {
            "error_x": {
             "color": "#2a3f5f"
            },
            "error_y": {
             "color": "#2a3f5f"
            },
            "marker": {
             "line": {
              "color": "#E5ECF6",
              "width": 0.5
             },
             "pattern": {
              "fillmode": "overlay",
              "size": 10,
              "solidity": 0.2
             }
            },
            "type": "bar"
           }
          ],
          "barpolar": [
           {
            "marker": {
             "line": {
              "color": "#E5ECF6",
              "width": 0.5
             },
             "pattern": {
              "fillmode": "overlay",
              "size": 10,
              "solidity": 0.2
             }
            },
            "type": "barpolar"
           }
          ],
          "carpet": [
           {
            "aaxis": {
             "endlinecolor": "#2a3f5f",
             "gridcolor": "white",
             "linecolor": "white",
             "minorgridcolor": "white",
             "startlinecolor": "#2a3f5f"
            },
            "baxis": {
             "endlinecolor": "#2a3f5f",
             "gridcolor": "white",
             "linecolor": "white",
             "minorgridcolor": "white",
             "startlinecolor": "#2a3f5f"
            },
            "type": "carpet"
           }
          ],
          "choropleth": [
           {
            "colorbar": {
             "outlinewidth": 0,
             "ticks": ""
            },
            "type": "choropleth"
           }
          ],
          "contour": [
           {
            "colorbar": {
             "outlinewidth": 0,
             "ticks": ""
            },
            "colorscale": [
             [
              0,
              "#0d0887"
             ],
             [
              0.1111111111111111,
              "#46039f"
             ],
             [
              0.2222222222222222,
              "#7201a8"
             ],
             [
              0.3333333333333333,
              "#9c179e"
             ],
             [
              0.4444444444444444,
              "#bd3786"
             ],
             [
              0.5555555555555556,
              "#d8576b"
             ],
             [
              0.6666666666666666,
              "#ed7953"
             ],
             [
              0.7777777777777778,
              "#fb9f3a"
             ],
             [
              0.8888888888888888,
              "#fdca26"
             ],
             [
              1,
              "#f0f921"
             ]
            ],
            "type": "contour"
           }
          ],
          "contourcarpet": [
           {
            "colorbar": {
             "outlinewidth": 0,
             "ticks": ""
            },
            "type": "contourcarpet"
           }
          ],
          "heatmap": [
           {
            "colorbar": {
             "outlinewidth": 0,
             "ticks": ""
            },
            "colorscale": [
             [
              0,
              "#0d0887"
             ],
             [
              0.1111111111111111,
              "#46039f"
             ],
             [
              0.2222222222222222,
              "#7201a8"
             ],
             [
              0.3333333333333333,
              "#9c179e"
             ],
             [
              0.4444444444444444,
              "#bd3786"
             ],
             [
              0.5555555555555556,
              "#d8576b"
             ],
             [
              0.6666666666666666,
              "#ed7953"
             ],
             [
              0.7777777777777778,
              "#fb9f3a"
             ],
             [
              0.8888888888888888,
              "#fdca26"
             ],
             [
              1,
              "#f0f921"
             ]
            ],
            "type": "heatmap"
           }
          ],
          "heatmapgl": [
           {
            "colorbar": {
             "outlinewidth": 0,
             "ticks": ""
            },
            "colorscale": [
             [
              0,
              "#0d0887"
             ],
             [
              0.1111111111111111,
              "#46039f"
             ],
             [
              0.2222222222222222,
              "#7201a8"
             ],
             [
              0.3333333333333333,
              "#9c179e"
             ],
             [
              0.4444444444444444,
              "#bd3786"
             ],
             [
              0.5555555555555556,
              "#d8576b"
             ],
             [
              0.6666666666666666,
              "#ed7953"
             ],
             [
              0.7777777777777778,
              "#fb9f3a"
             ],
             [
              0.8888888888888888,
              "#fdca26"
             ],
             [
              1,
              "#f0f921"
             ]
            ],
            "type": "heatmapgl"
           }
          ],
          "histogram": [
           {
            "marker": {
             "pattern": {
              "fillmode": "overlay",
              "size": 10,
              "solidity": 0.2
             }
            },
            "type": "histogram"
           }
          ],
          "histogram2d": [
           {
            "colorbar": {
             "outlinewidth": 0,
             "ticks": ""
            },
            "colorscale": [
             [
              0,
              "#0d0887"
             ],
             [
              0.1111111111111111,
              "#46039f"
             ],
             [
              0.2222222222222222,
              "#7201a8"
             ],
             [
              0.3333333333333333,
              "#9c179e"
             ],
             [
              0.4444444444444444,
              "#bd3786"
             ],
             [
              0.5555555555555556,
              "#d8576b"
             ],
             [
              0.6666666666666666,
              "#ed7953"
             ],
             [
              0.7777777777777778,
              "#fb9f3a"
             ],
             [
              0.8888888888888888,
              "#fdca26"
             ],
             [
              1,
              "#f0f921"
             ]
            ],
            "type": "histogram2d"
           }
          ],
          "histogram2dcontour": [
           {
            "colorbar": {
             "outlinewidth": 0,
             "ticks": ""
            },
            "colorscale": [
             [
              0,
              "#0d0887"
             ],
             [
              0.1111111111111111,
              "#46039f"
             ],
             [
              0.2222222222222222,
              "#7201a8"
             ],
             [
              0.3333333333333333,
              "#9c179e"
             ],
             [
              0.4444444444444444,
              "#bd3786"
             ],
             [
              0.5555555555555556,
              "#d8576b"
             ],
             [
              0.6666666666666666,
              "#ed7953"
             ],
             [
              0.7777777777777778,
              "#fb9f3a"
             ],
             [
              0.8888888888888888,
              "#fdca26"
             ],
             [
              1,
              "#f0f921"
             ]
            ],
            "type": "histogram2dcontour"
           }
          ],
          "mesh3d": [
           {
            "colorbar": {
             "outlinewidth": 0,
             "ticks": ""
            },
            "type": "mesh3d"
           }
          ],
          "parcoords": [
           {
            "line": {
             "colorbar": {
              "outlinewidth": 0,
              "ticks": ""
             }
            },
            "type": "parcoords"
           }
          ],
          "pie": [
           {
            "automargin": true,
            "type": "pie"
           }
          ],
          "scatter": [
           {
            "fillpattern": {
             "fillmode": "overlay",
             "size": 10,
             "solidity": 0.2
            },
            "type": "scatter"
           }
          ],
          "scatter3d": [
           {
            "line": {
             "colorbar": {
              "outlinewidth": 0,
              "ticks": ""
             }
            },
            "marker": {
             "colorbar": {
              "outlinewidth": 0,
              "ticks": ""
             }
            },
            "type": "scatter3d"
           }
          ],
          "scattercarpet": [
           {
            "marker": {
             "colorbar": {
              "outlinewidth": 0,
              "ticks": ""
             }
            },
            "type": "scattercarpet"
           }
          ],
          "scattergeo": [
           {
            "marker": {
             "colorbar": {
              "outlinewidth": 0,
              "ticks": ""
             }
            },
            "type": "scattergeo"
           }
          ],
          "scattergl": [
           {
            "marker": {
             "colorbar": {
              "outlinewidth": 0,
              "ticks": ""
             }
            },
            "type": "scattergl"
           }
          ],
          "scattermapbox": [
           {
            "marker": {
             "colorbar": {
              "outlinewidth": 0,
              "ticks": ""
             }
            },
            "type": "scattermapbox"
           }
          ],
          "scatterpolar": [
           {
            "marker": {
             "colorbar": {
              "outlinewidth": 0,
              "ticks": ""
             }
            },
            "type": "scatterpolar"
           }
          ],
          "scatterpolargl": [
           {
            "marker": {
             "colorbar": {
              "outlinewidth": 0,
              "ticks": ""
             }
            },
            "type": "scatterpolargl"
           }
          ],
          "scatterternary": [
           {
            "marker": {
             "colorbar": {
              "outlinewidth": 0,
              "ticks": ""
             }
            },
            "type": "scatterternary"
           }
          ],
          "surface": [
           {
            "colorbar": {
             "outlinewidth": 0,
             "ticks": ""
            },
            "colorscale": [
             [
              0,
              "#0d0887"
             ],
             [
              0.1111111111111111,
              "#46039f"
             ],
             [
              0.2222222222222222,
              "#7201a8"
             ],
             [
              0.3333333333333333,
              "#9c179e"
             ],
             [
              0.4444444444444444,
              "#bd3786"
             ],
             [
              0.5555555555555556,
              "#d8576b"
             ],
             [
              0.6666666666666666,
              "#ed7953"
             ],
             [
              0.7777777777777778,
              "#fb9f3a"
             ],
             [
              0.8888888888888888,
              "#fdca26"
             ],
             [
              1,
              "#f0f921"
             ]
            ],
            "type": "surface"
           }
          ],
          "table": [
           {
            "cells": {
             "fill": {
              "color": "#EBF0F8"
             },
             "line": {
              "color": "white"
             }
            },
            "header": {
             "fill": {
              "color": "#C8D4E3"
             },
             "line": {
              "color": "white"
             }
            },
            "type": "table"
           }
          ]
         },
         "layout": {
          "annotationdefaults": {
           "arrowcolor": "#2a3f5f",
           "arrowhead": 0,
           "arrowwidth": 1
          },
          "autotypenumbers": "strict",
          "coloraxis": {
           "colorbar": {
            "outlinewidth": 0,
            "ticks": ""
           }
          },
          "colorscale": {
           "diverging": [
            [
             0,
             "#8e0152"
            ],
            [
             0.1,
             "#c51b7d"
            ],
            [
             0.2,
             "#de77ae"
            ],
            [
             0.3,
             "#f1b6da"
            ],
            [
             0.4,
             "#fde0ef"
            ],
            [
             0.5,
             "#f7f7f7"
            ],
            [
             0.6,
             "#e6f5d0"
            ],
            [
             0.7,
             "#b8e186"
            ],
            [
             0.8,
             "#7fbc41"
            ],
            [
             0.9,
             "#4d9221"
            ],
            [
             1,
             "#276419"
            ]
           ],
           "sequential": [
            [
             0,
             "#0d0887"
            ],
            [
             0.1111111111111111,
             "#46039f"
            ],
            [
             0.2222222222222222,
             "#7201a8"
            ],
            [
             0.3333333333333333,
             "#9c179e"
            ],
            [
             0.4444444444444444,
             "#bd3786"
            ],
            [
             0.5555555555555556,
             "#d8576b"
            ],
            [
             0.6666666666666666,
             "#ed7953"
            ],
            [
             0.7777777777777778,
             "#fb9f3a"
            ],
            [
             0.8888888888888888,
             "#fdca26"
            ],
            [
             1,
             "#f0f921"
            ]
           ],
           "sequentialminus": [
            [
             0,
             "#0d0887"
            ],
            [
             0.1111111111111111,
             "#46039f"
            ],
            [
             0.2222222222222222,
             "#7201a8"
            ],
            [
             0.3333333333333333,
             "#9c179e"
            ],
            [
             0.4444444444444444,
             "#bd3786"
            ],
            [
             0.5555555555555556,
             "#d8576b"
            ],
            [
             0.6666666666666666,
             "#ed7953"
            ],
            [
             0.7777777777777778,
             "#fb9f3a"
            ],
            [
             0.8888888888888888,
             "#fdca26"
            ],
            [
             1,
             "#f0f921"
            ]
           ]
          },
          "colorway": [
           "#636efa",
           "#EF553B",
           "#00cc96",
           "#ab63fa",
           "#FFA15A",
           "#19d3f3",
           "#FF6692",
           "#B6E880",
           "#FF97FF",
           "#FECB52"
          ],
          "font": {
           "color": "#2a3f5f"
          },
          "geo": {
           "bgcolor": "white",
           "lakecolor": "white",
           "landcolor": "#E5ECF6",
           "showlakes": true,
           "showland": true,
           "subunitcolor": "white"
          },
          "hoverlabel": {
           "align": "left"
          },
          "hovermode": "closest",
          "mapbox": {
           "style": "light"
          },
          "paper_bgcolor": "white",
          "plot_bgcolor": "#E5ECF6",
          "polar": {
           "angularaxis": {
            "gridcolor": "white",
            "linecolor": "white",
            "ticks": ""
           },
           "bgcolor": "#E5ECF6",
           "radialaxis": {
            "gridcolor": "white",
            "linecolor": "white",
            "ticks": ""
           }
          },
          "scene": {
           "xaxis": {
            "backgroundcolor": "#E5ECF6",
            "gridcolor": "white",
            "gridwidth": 2,
            "linecolor": "white",
            "showbackground": true,
            "ticks": "",
            "zerolinecolor": "white"
           },
           "yaxis": {
            "backgroundcolor": "#E5ECF6",
            "gridcolor": "white",
            "gridwidth": 2,
            "linecolor": "white",
            "showbackground": true,
            "ticks": "",
            "zerolinecolor": "white"
           },
           "zaxis": {
            "backgroundcolor": "#E5ECF6",
            "gridcolor": "white",
            "gridwidth": 2,
            "linecolor": "white",
            "showbackground": true,
            "ticks": "",
            "zerolinecolor": "white"
           }
          },
          "shapedefaults": {
           "line": {
            "color": "#2a3f5f"
           }
          },
          "ternary": {
           "aaxis": {
            "gridcolor": "white",
            "linecolor": "white",
            "ticks": ""
           },
           "baxis": {
            "gridcolor": "white",
            "linecolor": "white",
            "ticks": ""
           },
           "bgcolor": "#E5ECF6",
           "caxis": {
            "gridcolor": "white",
            "linecolor": "white",
            "ticks": ""
           }
          },
          "title": {
           "x": 0.05
          },
          "xaxis": {
           "automargin": true,
           "gridcolor": "white",
           "linecolor": "white",
           "ticks": "",
           "title": {
            "standoff": 15
           },
           "zerolinecolor": "white",
           "zerolinewidth": 2
          },
          "yaxis": {
           "automargin": true,
           "gridcolor": "white",
           "linecolor": "white",
           "ticks": "",
           "title": {
            "standoff": 15
           },
           "zerolinecolor": "white",
           "zerolinewidth": 2
          }
         }
        },
        "title": {
         "text": "Boxplots des Variables"
        },
        "xaxis": {
         "anchor": "y",
         "domain": [
          0,
          0.09135802469135802
         ]
        },
        "xaxis2": {
         "anchor": "y2",
         "domain": [
          0.11358024691358025,
          0.20493827160493827
         ]
        },
        "xaxis3": {
         "anchor": "y3",
         "domain": [
          0.2271604938271605,
          0.31851851851851853
         ]
        },
        "xaxis4": {
         "anchor": "y4",
         "domain": [
          0.34074074074074073,
          0.43209876543209874
         ]
        },
        "xaxis5": {
         "anchor": "y5",
         "domain": [
          0.454320987654321,
          0.5456790123456791
         ]
        },
        "xaxis6": {
         "anchor": "y6",
         "domain": [
          0.5679012345679012,
          0.6592592592592592
         ]
        },
        "xaxis7": {
         "anchor": "y7",
         "domain": [
          0.6814814814814815,
          0.7728395061728395
         ]
        },
        "xaxis8": {
         "anchor": "y8",
         "domain": [
          0.7950617283950617,
          0.8864197530864197
         ]
        },
        "xaxis9": {
         "anchor": "y9",
         "domain": [
          0.908641975308642,
          1
         ]
        },
        "yaxis": {
         "anchor": "x",
         "domain": [
          0,
          1
         ],
         "title": {
          "text": "Valeurs"
         }
        },
        "yaxis2": {
         "anchor": "x2",
         "domain": [
          0,
          1
         ]
        },
        "yaxis3": {
         "anchor": "x3",
         "domain": [
          0,
          1
         ]
        },
        "yaxis4": {
         "anchor": "x4",
         "domain": [
          0,
          1
         ]
        },
        "yaxis5": {
         "anchor": "x5",
         "domain": [
          0,
          1
         ]
        },
        "yaxis6": {
         "anchor": "x6",
         "domain": [
          0,
          1
         ]
        },
        "yaxis7": {
         "anchor": "x7",
         "domain": [
          0,
          1
         ]
        },
        "yaxis8": {
         "anchor": "x8",
         "domain": [
          0,
          1
         ]
        },
        "yaxis9": {
         "anchor": "x9",
         "domain": [
          0,
          1
         ]
        }
       }
      }
     },
     "metadata": {},
     "output_type": "display_data"
    }
   ],
   "source": [
    "fig = sp.make_subplots(rows=1, cols=9)\n",
    "\n",
    "# Ajouter les boxplots pour chaque variable dans les sous-graphiques correspondants\n",
    "for i, col in enumerate(df.iloc[:, 1:].columns):\n",
    "    fig.add_trace(go.Box(x=[col]*len(df), y=df[col], name=col), row=1, col=i+1)\n",
    "\n",
    "# Mettre en forme le titre et les étiquettes des axes\n",
    "fig.update_layout(\n",
    "    title='Boxplots des Variables',\n",
    "    yaxis=dict(title='Valeurs')\n",
    ")\n",
    "\n",
    "# Afficher le graphique\n",
    "fig.show()"
   ]
  },
  {
   "cell_type": "code",
   "execution_count": 8,
   "metadata": {
    "ExecuteTime": {
     "end_time": "2023-04-24T10:50:55.934570Z",
     "start_time": "2023-04-24T10:50:07.611167Z"
    },
    "collapsed": false
   },
   "outputs": [
    {
     "data": {
      "image/png": "[encoded data removed]",
      "text/plain": [
       "<Figure size 640x480 with 2 Axes>"
      ]
     },
     "metadata": {},
     "output_type": "display_data"
    }
   ],
   "source": [
    "# Calculer la matrice de corrélation\n",
    "mat_corr = df.iloc[:, 1:].corr()\n",
    "\n",
    "# Créer un masque pour la moitié inférieure\n",
    "mask = np.triu(np.ones_like(mat_corr, dtype=bool))\n",
    "\n",
    "# Définir une colormap personnalisée\n",
    "cmap = sns.diverging_palette(10, 220, as_cmap=True)\n",
    "\n",
    "# Créer la heatmap avec le masque et la colormap personnalisée\n",
    "sns.heatmap(mat_corr, mask=mask, annot=True, cmap=\"vlag\",center=0)\n",
    "\n",
    "# Afficher la figure\n",
    "plt.show()"
   ]
  },
  {
   "cell_type": "code",
   "execution_count": 9,
   "metadata": {
    "ExecuteTime": {
     "end_time": "2023-04-24T10:50:56.027110Z",
     "start_time": "2023-04-24T10:50:07.711955Z"
    },
    "collapsed": false
   },
   "outputs": [
    {
     "data": {
      "application/vnd.plotly.v1+json": {
       "config": {
        "plotlyServerURL": "https://plot.ly"
       },
       "data": [
        {
         "alignmentgroup": "True",
         "bingroup": "x",
         "histfunc": "sum",
         "hovertemplate": "country=%{x}<br>sum of child_mort=%{y}<extra></extra>",
         "legendgroup": "",
         "marker": {
          "color": "#636efa",
          "pattern": {
           "shape": ""
          }
         },
         "name": "",
         "offsetgroup": "",
         "orientation": "v",
         "showlegend": false,
         "type": "histogram",
         "x": [
          "Haiti",
          "Sierra Leone",
          "Chad",
          "Central African Rep.",
          "Mali",
          "Nigeria",
          "Niger",
          "Angola",
          "Burkina Faso",
          "Dem. Rep. Congo",
          "Guinea-Bissau",
          "Benin",
          "Côte d'Ivoire",
          "Eq. Guinea",
          "Guinea",
          "Cameroon",
          "Mozambique",
          "Lesotho",
          "Mauritania",
          "Burundi",
          "Pakistan",
          "Malawi",
          "Togo",
          "Afghanistan",
          "Liberia",
          "Comoros",
          "Zambia",
          "Uganda",
          "Gambia",
          "Laos",
          "Sudan",
          "Ghana",
          "Tanzania",
          "Senegal",
          "Myanmar",
          "Congo",
          "Gabon",
          "Rwanda",
          "Kiribati",
          "Timor-Leste",
          "Madagascar",
          "Kenya",
          "Turkmenistan",
          "India",
          "Yemen",
          "Namibia",
          "Eritrea",
          "South Africa",
          "Botswana",
          "Tajikistan",
          "Bangladesh",
          "Nepal",
          "Bolivia",
          "Cambodia",
          "Bhutan",
          "Micronesia",
          "Azerbaijan",
          "Guyana",
          "Iraq",
          "Uzbekistan",
          "Guatemala",
          "Dominican Rep.",
          "Morocco",
          "Indonesia",
          "Philippines",
          "Kyrgyzstan",
          "Vanuatu",
          "Egypt",
          "Solomon Is.",
          "Algeria",
          "Cape Verde",
          "Mongolia",
          "Ecuador",
          "Fiji",
          "Suriname",
          "Paraguay",
          "Vietnam",
          "Kazakhstan",
          "Jordan",
          "St. Vincent and the Grenadines",
          "Peru",
          "Brazil",
          "Panama",
          "Iran",
          "El Salvador",
          "Turkey",
          "Samoa",
          "Belize",
          "Colombia",
          "Armenia",
          "Jamaica",
          "Tonga",
          "Tunisia",
          "Moldova",
          "Venezuela",
          "Libya",
          "Albania",
          "Georgia",
          "China",
          "Saudi Arabia",
          "Mauritius",
          "Thailand",
          "Grenada",
          "Argentina",
          "Seychelles",
          "Barbados",
          "Bahamas",
          "Maldives",
          "Ukraine",
          "Oman",
          "Romania",
          "Sri Lanka",
          "Kuwait",
          "Bulgaria",
          "Uruguay",
          "Brunei",
          "North Macedonia",
          "Antigua and Barbuda",
          "Lebanon",
          "Costa Rica",
          "Russia",
          "Qatar",
          "Chile",
          "United Arab Emirates",
          "Bahrain",
          "Malaysia",
          "Latvia",
          "Serbia",
          "United States of America",
          "Slovakia",
          "Bosnia and Herz.",
          "Malta",
          "Montenegro",
          "New Zealand",
          "Lithuania",
          "Poland",
          "Hungary",
          "Canada",
          "Belarus",
          "Croatia",
          "United Kingdom",
          "Australia",
          "Israel",
          "Switzerland",
          "Estonia",
          "Netherlands",
          "Belgium",
          "Austria",
          "France",
          "Ireland",
          "Germany",
          "Denmark",
          "South Korea",
          "Italy",
          "Portugal",
          "Greece",
          "Spain",
          "Cyprus",
          "Czechia",
          "Norway",
          "Slovenia",
          "Japan",
          "Finland",
          "Sweden",
          "Singapore",
          "Luxembourg",
          "Iceland"
         ],
         "xaxis": "x",
         "y": [
          208,
          160,
          150,
          149,
          137,
          130,
          123,
          119,
          116,
          116,
          114,
          111,
          111,
          111,
          109,
          108,
          101,
          99.7,
          97.4,
          93.6,
          92.1,
          90.5,
          90.3,
          90.2,
          89.3,
          88.2,
          83.1,
          81,
          80.3,
          78.9,
          76.7,
          74.7,
          71.9,
          66.8,
          64.4,
          63.9,
          63.7,
          63.6,
          62.7,
          62.6,
          62.2,
          62.2,
          62,
          58.8,
          56.3,
          56,
          55.2,
          53.7,
          52.5,
          52.4,
          49.4,
          47,
          46.6,
          44.4,
          42.7,
          40,
          39.2,
          37.6,
          36.9,
          36.3,
          35.4,
          34.4,
          33.5,
          33.3,
          31.9,
          29.6,
          29.2,
          29.1,
          28.1,
          27.3,
          26.5,
          26.1,
          25.1,
          24.1,
          24.1,
          24.1,
          23.3,
          21.5,
          21.1,
          20.7,
          20.3,
          19.8,
          19.7,
          19.3,
          19.2,
          19.1,
          18.9,
          18.8,
          18.6,
          18.1,
          18.1,
          17.4,
          17.4,
          17.2,
          17.1,
          16.6,
          16.6,
          16.5,
          15.7,
          15.7,
          15,
          14.9,
          14.6,
          14.5,
          14.4,
          14.2,
          13.8,
          13.2,
          11.7,
          11.7,
          11.5,
          11.2,
          10.8,
          10.8,
          10.6,
          10.5,
          10.4,
          10.3,
          10.3,
          10.2,
          10,
          9,
          8.7,
          8.6,
          8.6,
          7.9,
          7.8,
          7.6,
          7.3,
          7,
          6.9,
          6.8,
          6.8,
          6.2,
          6.1,
          6,
          6,
          5.6,
          5.5,
          5.5,
          5.2,
          4.8,
          4.6,
          4.5,
          4.5,
          4.5,
          4.5,
          4.3,
          4.2,
          4.2,
          4.2,
          4.1,
          4.1,
          4,
          3.9,
          3.9,
          3.8,
          3.6,
          3.4,
          3.2,
          3.2,
          3.2,
          3,
          3,
          2.8,
          2.8,
          2.6
         ],
         "yaxis": "y"
        }
       ],
       "layout": {
        "barmode": "relative",
        "legend": {
         "tracegroupgap": 0
        },
        "margin": {
         "t": 60
        },
        "template": {
         "data": {
          "bar": [
           {
            "error_x": {
             "color": "#2a3f5f"
            },
            "error_y": {
             "color": "#2a3f5f"
            },
            "marker": {
             "line": {
              "color": "#E5ECF6",
              "width": 0.5
             },
             "pattern": {
              "fillmode": "overlay",
              "size": 10,
              "solidity": 0.2
             }
            },
            "type": "bar"
           }
          ],
          "barpolar": [
           {
            "marker": {
             "line": {
              "color": "#E5ECF6",
              "width": 0.5
             },
             "pattern": {
              "fillmode": "overlay",
              "size": 10,
              "solidity": 0.2
             }
            },
            "type": "barpolar"
           }
          ],
          "carpet": [
           {
            "aaxis": {
             "endlinecolor": "#2a3f5f",
             "gridcolor": "white",
             "linecolor": "white",
             "minorgridcolor": "white",
             "startlinecolor": "#2a3f5f"
            },
            "baxis": {
             "endlinecolor": "#2a3f5f",
             "gridcolor": "white",
             "linecolor": "white",
             "minorgridcolor": "white",
             "startlinecolor": "#2a3f5f"
            },
            "type": "carpet"
           }
          ],
          "choropleth": [
           {
            "colorbar": {
             "outlinewidth": 0,
             "ticks": ""
            },
            "type": "choropleth"
           }
          ],
          "contour": [
           {
            "colorbar": {
             "outlinewidth": 0,
             "ticks": ""
            },
            "colorscale": [
             [
              0,
              "#0d0887"
             ],
             [
              0.1111111111111111,
              "#46039f"
             ],
             [
              0.2222222222222222,
              "#7201a8"
             ],
             [
              0.3333333333333333,
              "#9c179e"
             ],
             [
              0.4444444444444444,
              "#bd3786"
             ],
             [
              0.5555555555555556,
              "#d8576b"
             ],
             [
              0.6666666666666666,
              "#ed7953"
             ],
             [
              0.7777777777777778,
              "#fb9f3a"
             ],
             [
              0.8888888888888888,
              "#fdca26"
             ],
             [
              1,
              "#f0f921"
             ]
            ],
            "type": "contour"
           }
          ],
          "contourcarpet": [
           {
            "colorbar": {
             "outlinewidth": 0,
             "ticks": ""
            },
            "type": "contourcarpet"
           }
          ],
          "heatmap": [
           {
            "colorbar": {
             "outlinewidth": 0,
             "ticks": ""
            },
            "colorscale": [
             [
              0,
              "#0d0887"
             ],
             [
              0.1111111111111111,
              "#46039f"
             ],
             [
              0.2222222222222222,
              "#7201a8"
             ],
             [
              0.3333333333333333,
              "#9c179e"
             ],
             [
              0.4444444444444444,
              "#bd3786"
             ],
             [
              0.5555555555555556,
              "#d8576b"
             ],
             [
              0.6666666666666666,
              "#ed7953"
             ],
             [
              0.7777777777777778,
              "#fb9f3a"
             ],
             [
              0.8888888888888888,
              "#fdca26"
             ],
             [
              1,
              "#f0f921"
             ]
            ],
            "type": "heatmap"
           }
          ],
          "heatmapgl": [
           {
            "colorbar": {
             "outlinewidth": 0,
             "ticks": ""
            },
            "colorscale": [
             [
              0,
              "#0d0887"
             ],
             [
              0.1111111111111111,
              "#46039f"
             ],
             [
              0.2222222222222222,
              "#7201a8"
             ],
             [
              0.3333333333333333,
              "#9c179e"
             ],
             [
              0.4444444444444444,
              "#bd3786"
             ],
             [
              0.5555555555555556,
              "#d8576b"
             ],
             [
              0.6666666666666666,
              "#ed7953"
             ],
             [
              0.7777777777777778,
              "#fb9f3a"
             ],
             [
              0.8888888888888888,
              "#fdca26"
             ],
             [
              1,
              "#f0f921"
             ]
            ],
            "type": "heatmapgl"
           }
          ],
          "histogram": [
           {
            "marker": {
             "pattern": {
              "fillmode": "overlay",
              "size": 10,
              "solidity": 0.2
             }
            },
            "type": "histogram"
           }
          ],
          "histogram2d": [
           {
            "colorbar": {
             "outlinewidth": 0,
             "ticks": ""
            },
            "colorscale": [
             [
              0,
              "#0d0887"
             ],
             [
              0.1111111111111111,
              "#46039f"
             ],
             [
              0.2222222222222222,
              "#7201a8"
             ],
             [
              0.3333333333333333,
              "#9c179e"
             ],
             [
              0.4444444444444444,
              "#bd3786"
             ],
             [
              0.5555555555555556,
              "#d8576b"
             ],
             [
              0.6666666666666666,
              "#ed7953"
             ],
             [
              0.7777777777777778,
              "#fb9f3a"
             ],
             [
              0.8888888888888888,
              "#fdca26"
             ],
             [
              1,
              "#f0f921"
             ]
            ],
            "type": "histogram2d"
           }
          ],
          "histogram2dcontour": [
           {
            "colorbar": {
             "outlinewidth": 0,
             "ticks": ""
            },
            "colorscale": [
             [
              0,
              "#0d0887"
             ],
             [
              0.1111111111111111,
              "#46039f"
             ],
             [
              0.2222222222222222,
              "#7201a8"
             ],
             [
              0.3333333333333333,
              "#9c179e"
             ],
             [
              0.4444444444444444,
              "#bd3786"
             ],
             [
              0.5555555555555556,
              "#d8576b"
             ],
             [
              0.6666666666666666,
              "#ed7953"
             ],
             [
              0.7777777777777778,
              "#fb9f3a"
             ],
             [
              0.8888888888888888,
              "#fdca26"
             ],
             [
              1,
              "#f0f921"
             ]
            ],
            "type": "histogram2dcontour"
           }
          ],
          "mesh3d": [
           {
            "colorbar": {
             "outlinewidth": 0,
             "ticks": ""
            },
            "type": "mesh3d"
           }
          ],
          "parcoords": [
           {
            "line": {
             "colorbar": {
              "outlinewidth": 0,
              "ticks": ""
             }
            },
            "type": "parcoords"
           }
          ],
          "pie": [
           {
            "automargin": true,
            "type": "pie"
           }
          ],
          "scatter": [
           {
            "fillpattern": {
             "fillmode": "overlay",
             "size": 10,
             "solidity": 0.2
            },
            "type": "scatter"
           }
          ],
          "scatter3d": [
           {
            "line": {
             "colorbar": {
              "outlinewidth": 0,
              "ticks": ""
             }
            },
            "marker": {
             "colorbar": {
              "outlinewidth": 0,
              "ticks": ""
             }
            },
            "type": "scatter3d"
           }
          ],
          "scattercarpet": [
           {
            "marker": {
             "colorbar": {
              "outlinewidth": 0,
              "ticks": ""
             }
            },
            "type": "scattercarpet"
           }
          ],
          "scattergeo": [
           {
            "marker": {
             "colorbar": {
              "outlinewidth": 0,
              "ticks": ""
             }
            },
            "type": "scattergeo"
           }
          ],
          "scattergl": [
           {
            "marker": {
             "colorbar": {
              "outlinewidth": 0,
              "ticks": ""
             }
            },
            "type": "scattergl"
           }
          ],
          "scattermapbox": [
           {
            "marker": {
             "colorbar": {
              "outlinewidth": 0,
              "ticks": ""
             }
            },
            "type": "scattermapbox"
           }
          ],
          "scatterpolar": [
           {
            "marker": {
             "colorbar": {
              "outlinewidth": 0,
              "ticks": ""
             }
            },
            "type": "scatterpolar"
           }
          ],
          "scatterpolargl": [
           {
            "marker": {
             "colorbar": {
              "outlinewidth": 0,
              "ticks": ""
             }
            },
            "type": "scatterpolargl"
           }
          ],
          "scatterternary": [
           {
            "marker": {
             "colorbar": {
              "outlinewidth": 0,
              "ticks": ""
             }
            },
            "type": "scatterternary"
           }
          ],
          "surface": [
           {
            "colorbar": {
             "outlinewidth": 0,
             "ticks": ""
            },
            "colorscale": [
             [
              0,
              "#0d0887"
             ],
             [
              0.1111111111111111,
              "#46039f"
             ],
             [
              0.2222222222222222,
              "#7201a8"
             ],
             [
              0.3333333333333333,
              "#9c179e"
             ],
             [
              0.4444444444444444,
              "#bd3786"
             ],
             [
              0.5555555555555556,
              "#d8576b"
             ],
             [
              0.6666666666666666,
              "#ed7953"
             ],
             [
              0.7777777777777778,
              "#fb9f3a"
             ],
             [
              0.8888888888888888,
              "#fdca26"
             ],
             [
              1,
              "#f0f921"
             ]
            ],
            "type": "surface"
           }
          ],
          "table": [
           {
            "cells": {
             "fill": {
              "color": "#EBF0F8"
             },
             "line": {
              "color": "white"
             }
            },
            "header": {
             "fill": {
              "color": "#C8D4E3"
             },
             "line": {
              "color": "white"
             }
            },
            "type": "table"
           }
          ]
         },
         "layout": {
          "annotationdefaults": {
           "arrowcolor": "#2a3f5f",
           "arrowhead": 0,
           "arrowwidth": 1
          },
          "autotypenumbers": "strict",
          "coloraxis": {
           "colorbar": {
            "outlinewidth": 0,
            "ticks": ""
           }
          },
          "colorscale": {
           "diverging": [
            [
             0,
             "#8e0152"
            ],
            [
             0.1,
             "#c51b7d"
            ],
            [
             0.2,
             "#de77ae"
            ],
            [
             0.3,
             "#f1b6da"
            ],
            [
             0.4,
             "#fde0ef"
            ],
            [
             0.5,
             "#f7f7f7"
            ],
            [
             0.6,
             "#e6f5d0"
            ],
            [
             0.7,
             "#b8e186"
            ],
            [
             0.8,
             "#7fbc41"
            ],
            [
             0.9,
             "#4d9221"
            ],
            [
             1,
             "#276419"
            ]
           ],
           "sequential": [
            [
             0,
             "#0d0887"
            ],
            [
             0.1111111111111111,
             "#46039f"
            ],
            [
             0.2222222222222222,
             "#7201a8"
            ],
            [
             0.3333333333333333,
             "#9c179e"
            ],
            [
             0.4444444444444444,
             "#bd3786"
            ],
            [
             0.5555555555555556,
             "#d8576b"
            ],
            [
             0.6666666666666666,
             "#ed7953"
            ],
            [
             0.7777777777777778,
             "#fb9f3a"
            ],
            [
             0.8888888888888888,
             "#fdca26"
            ],
            [
             1,
             "#f0f921"
            ]
           ],
           "sequentialminus": [
            [
             0,
             "#0d0887"
            ],
            [
             0.1111111111111111,
             "#46039f"
            ],
            [
             0.2222222222222222,
             "#7201a8"
            ],
            [
             0.3333333333333333,
             "#9c179e"
            ],
            [
             0.4444444444444444,
             "#bd3786"
            ],
            [
             0.5555555555555556,
             "#d8576b"
            ],
            [
             0.6666666666666666,
             "#ed7953"
            ],
            [
             0.7777777777777778,
             "#fb9f3a"
            ],
            [
             0.8888888888888888,
             "#fdca26"
            ],
            [
             1,
             "#f0f921"
            ]
           ]
          },
          "colorway": [
           "#636efa",
           "#EF553B",
           "#00cc96",
           "#ab63fa",
           "#FFA15A",
           "#19d3f3",
           "#FF6692",
           "#B6E880",
           "#FF97FF",
           "#FECB52"
          ],
          "font": {
           "color": "#2a3f5f"
          },
          "geo": {
           "bgcolor": "white",
           "lakecolor": "white",
           "landcolor": "#E5ECF6",
           "showlakes": true,
           "showland": true,
           "subunitcolor": "white"
          },
          "hoverlabel": {
           "align": "left"
          },
          "hovermode": "closest",
          "mapbox": {
           "style": "light"
          },
          "paper_bgcolor": "white",
          "plot_bgcolor": "#E5ECF6",
          "polar": {
           "angularaxis": {
            "gridcolor": "white",
            "linecolor": "white",
            "ticks": ""
           },
           "bgcolor": "#E5ECF6",
           "radialaxis": {
            "gridcolor": "white",
            "linecolor": "white",
            "ticks": ""
           }
          },
          "scene": {
           "xaxis": {
            "backgroundcolor": "#E5ECF6",
            "gridcolor": "white",
            "gridwidth": 2,
            "linecolor": "white",
            "showbackground": true,
            "ticks": "",
            "zerolinecolor": "white"
           },
           "yaxis": {
            "backgroundcolor": "#E5ECF6",
            "gridcolor": "white",
            "gridwidth": 2,
            "linecolor": "white",
            "showbackground": true,
            "ticks": "",
            "zerolinecolor": "white"
           },
           "zaxis": {
            "backgroundcolor": "#E5ECF6",
            "gridcolor": "white",
            "gridwidth": 2,
            "linecolor": "white",
            "showbackground": true,
            "ticks": "",
            "zerolinecolor": "white"
           }
          },
          "shapedefaults": {
           "line": {
            "color": "#2a3f5f"
           }
          },
          "ternary": {
           "aaxis": {
            "gridcolor": "white",
            "linecolor": "white",
            "ticks": ""
           },
           "baxis": {
            "gridcolor": "white",
            "linecolor": "white",
            "ticks": ""
           },
           "bgcolor": "#E5ECF6",
           "caxis": {
            "gridcolor": "white",
            "linecolor": "white",
            "ticks": ""
           }
          },
          "title": {
           "x": 0.05
          },
          "xaxis": {
           "automargin": true,
           "gridcolor": "white",
           "linecolor": "white",
           "ticks": "",
           "title": {
            "standoff": 15
           },
           "zerolinecolor": "white",
           "zerolinewidth": 2
          },
          "yaxis": {
           "automargin": true,
           "gridcolor": "white",
           "linecolor": "white",
           "ticks": "",
           "title": {
            "standoff": 15
           },
           "zerolinecolor": "white",
           "zerolinewidth": 2
          }
         }
        },
        "xaxis": {
         "anchor": "y",
         "domain": [
          0,
          1
         ],
         "title": {
          "text": "country"
         }
        },
        "yaxis": {
         "anchor": "x",
         "domain": [
          0,
          1
         ],
         "title": {
          "text": "sum of child_mort"
         }
        }
       }
      }
     },
     "metadata": {},
     "output_type": "display_data"
    }
   ],
   "source": [
    "px.histogram(df.sort_values('child_mort',ascending=False), x='country', y='child_mort')"
   ]
  },
  {
   "cell_type": "code",
   "execution_count": 10,
   "metadata": {
    "ExecuteTime": {
     "end_time": "2023-04-24T10:50:56.044245Z",
     "start_time": "2023-04-24T10:50:07.712589Z"
    },
    "collapsed": false
   },
   "outputs": [],
   "source": [
    "def view_distribution(df,feature,is_ascending):\n",
    "    px.histogram(df.sort_values(feature,ascending=is_ascending).head(10), x='country', y=feature).show()"
   ]
  },
  {
   "cell_type": "code",
   "execution_count": 11,
   "metadata": {
    "ExecuteTime": {
     "end_time": "2023-04-24T10:50:56.168299Z",
     "start_time": "2023-04-24T10:50:07.868308Z"
    },
    "collapsed": false
   },
   "outputs": [
    {
     "data": {
      "application/vnd.plotly.v1+json": {
       "config": {
        "plotlyServerURL": "https://plot.ly"
       },
       "data": [
        {
         "alignmentgroup": "True",
         "bingroup": "x",
         "histfunc": "sum",
         "hovertemplate": "country=%{x}<br>sum of gdpp=%{y}<extra></extra>",
         "legendgroup": "",
         "marker": {
          "color": "#636efa",
          "pattern": {
           "shape": ""
          }
         },
         "name": "",
         "offsetgroup": "",
         "orientation": "v",
         "showlegend": false,
         "type": "histogram",
         "x": [
          "Luxembourg",
          "Norway",
          "Switzerland",
          "Qatar",
          "Denmark",
          "Sweden",
          "Australia",
          "Netherlands",
          "Ireland",
          "United States of America"
         ],
         "xaxis": "x",
         "y": [
          105000,
          87800,
          74600,
          70300,
          58000,
          52100,
          51900,
          50300,
          48700,
          48400
         ],
         "yaxis": "y"
        }
       ],
       "layout": {
        "barmode": "relative",
        "legend": {
         "tracegroupgap": 0
        },
        "margin": {
         "t": 60
        },
        "template": {
         "data": {
          "bar": [
           {
            "error_x": {
             "color": "#2a3f5f"
            },
            "error_y": {
             "color": "#2a3f5f"
            },
            "marker": {
             "line": {
              "color": "#E5ECF6",
              "width": 0.5
             },
             "pattern": {
              "fillmode": "overlay",
              "size": 10,
              "solidity": 0.2
             }
            },
            "type": "bar"
           }
          ],
          "barpolar": [
           {
            "marker": {
             "line": {
              "color": "#E5ECF6",
              "width": 0.5
             },
             "pattern": {
              "fillmode": "overlay",
              "size": 10,
              "solidity": 0.2
             }
            },
            "type": "barpolar"
           }
          ],
          "carpet": [
           {
            "aaxis": {
             "endlinecolor": "#2a3f5f",
             "gridcolor": "white",
             "linecolor": "white",
             "minorgridcolor": "white",
             "startlinecolor": "#2a3f5f"
            },
            "baxis": {
             "endlinecolor": "#2a3f5f",
             "gridcolor": "white",
             "linecolor": "white",
             "minorgridcolor": "white",
             "startlinecolor": "#2a3f5f"
            },
            "type": "carpet"
           }
          ],
          "choropleth": [
           {
            "colorbar": {
             "outlinewidth": 0,
             "ticks": ""
            },
            "type": "choropleth"
           }
          ],
          "contour": [
           {
            "colorbar": {
             "outlinewidth": 0,
             "ticks": ""
            },
            "colorscale": [
             [
              0,
              "#0d0887"
             ],
             [
              0.1111111111111111,
              "#46039f"
             ],
             [
              0.2222222222222222,
              "#7201a8"
             ],
             [
              0.3333333333333333,
              "#9c179e"
             ],
             [
              0.4444444444444444,
              "#bd3786"
             ],
             [
              0.5555555555555556,
              "#d8576b"
             ],
             [
              0.6666666666666666,
              "#ed7953"
             ],
             [
              0.7777777777777778,
              "#fb9f3a"
             ],
             [
              0.8888888888888888,
              "#fdca26"
             ],
             [
              1,
              "#f0f921"
             ]
            ],
            "type": "contour"
           }
          ],
          "contourcarpet": [
           {
            "colorbar": {
             "outlinewidth": 0,
             "ticks": ""
            },
            "type": "contourcarpet"
           }
          ],
          "heatmap": [
           {
            "colorbar": {
             "outlinewidth": 0,
             "ticks": ""
            },
            "colorscale": [
             [
              0,
              "#0d0887"
             ],
             [
              0.1111111111111111,
              "#46039f"
             ],
             [
              0.2222222222222222,
              "#7201a8"
             ],
             [
              0.3333333333333333,
              "#9c179e"
             ],
             [
              0.4444444444444444,
              "#bd3786"
             ],
             [
              0.5555555555555556,
              "#d8576b"
             ],
             [
              0.6666666666666666,
              "#ed7953"
             ],
             [
              0.7777777777777778,
              "#fb9f3a"
             ],
             [
              0.8888888888888888,
              "#fdca26"
             ],
             [
              1,
              "#f0f921"
             ]
            ],
            "type": "heatmap"
           }
          ],
          "heatmapgl": [
           {
            "colorbar": {
             "outlinewidth": 0,
             "ticks": ""
            },
            "colorscale": [
             [
              0,
              "#0d0887"
             ],
             [
              0.1111111111111111,
              "#46039f"
             ],
             [
              0.2222222222222222,
              "#7201a8"
             ],
             [
              0.3333333333333333,
              "#9c179e"
             ],
             [
              0.4444444444444444,
              "#bd3786"
             ],
             [
              0.5555555555555556,
              "#d8576b"
             ],
             [
              0.6666666666666666,
              "#ed7953"
             ],
             [
              0.7777777777777778,
              "#fb9f3a"
             ],
             [
              0.8888888888888888,
              "#fdca26"
             ],
             [
              1,
              "#f0f921"
             ]
            ],
            "type": "heatmapgl"
           }
          ],
          "histogram": [
           {
            "marker": {
             "pattern": {
              "fillmode": "overlay",
              "size": 10,
              "solidity": 0.2
             }
            },
            "type": "histogram"
           }
          ],
          "histogram2d": [
           {
            "colorbar": {
             "outlinewidth": 0,
             "ticks": ""
            },
            "colorscale": [
             [
              0,
              "#0d0887"
             ],
             [
              0.1111111111111111,
              "#46039f"
             ],
             [
              0.2222222222222222,
              "#7201a8"
             ],
             [
              0.3333333333333333,
              "#9c179e"
             ],
             [
              0.4444444444444444,
              "#bd3786"
             ],
             [
              0.5555555555555556,
              "#d8576b"
             ],
             [
              0.6666666666666666,
              "#ed7953"
             ],
             [
              0.7777777777777778,
              "#fb9f3a"
             ],
             [
              0.8888888888888888,
              "#fdca26"
             ],
             [
              1,
              "#f0f921"
             ]
            ],
            "type": "histogram2d"
           }
          ],
          "histogram2dcontour": [
           {
            "colorbar": {
             "outlinewidth": 0,
             "ticks": ""
            },
            "colorscale": [
             [
              0,
              "#0d0887"
             ],
             [
              0.1111111111111111,
              "#46039f"
             ],
             [
              0.2222222222222222,
              "#7201a8"
             ],
             [
              0.3333333333333333,
              "#9c179e"
             ],
             [
              0.4444444444444444,
              "#bd3786"
             ],
             [
              0.5555555555555556,
              "#d8576b"
             ],
             [
              0.6666666666666666,
              "#ed7953"
             ],
             [
              0.7777777777777778,
              "#fb9f3a"
             ],
             [
              0.8888888888888888,
              "#fdca26"
             ],
             [
              1,
              "#f0f921"
             ]
            ],
            "type": "histogram2dcontour"
           }
          ],
          "mesh3d": [
           {
            "colorbar": {
             "outlinewidth": 0,
             "ticks": ""
            },
            "type": "mesh3d"
           }
          ],
          "parcoords": [
           {
            "line": {
             "colorbar": {
              "outlinewidth": 0,
              "ticks": ""
             }
            },
            "type": "parcoords"
           }
          ],
          "pie": [
           {
            "automargin": true,
            "type": "pie"
           }
          ],
          "scatter": [
           {
            "fillpattern": {
             "fillmode": "overlay",
             "size": 10,
             "solidity": 0.2
            },
            "type": "scatter"
           }
          ],
          "scatter3d": [
           {
            "line": {
             "colorbar": {
              "outlinewidth": 0,
              "ticks": ""
             }
            },
            "marker": {
             "colorbar": {
              "outlinewidth": 0,
              "ticks": ""
             }
            },
            "type": "scatter3d"
           }
          ],
          "scattercarpet": [
           {
            "marker": {
             "colorbar": {
              "outlinewidth": 0,
              "ticks": ""
             }
            },
            "type": "scattercarpet"
           }
          ],
          "scattergeo": [
           {
            "marker": {
             "colorbar": {
              "outlinewidth": 0,
              "ticks": ""
             }
            },
            "type": "scattergeo"
           }
          ],
          "scattergl": [
           {
            "marker": {
             "colorbar": {
              "outlinewidth": 0,
              "ticks": ""
             }
            },
            "type": "scattergl"
           }
          ],
          "scattermapbox": [
           {
            "marker": {
             "colorbar": {
              "outlinewidth": 0,
              "ticks": ""
             }
            },
            "type": "scattermapbox"
           }
          ],
          "scatterpolar": [
           {
            "marker": {
             "colorbar": {
              "outlinewidth": 0,
              "ticks": ""
             }
            },
            "type": "scatterpolar"
           }
          ],
          "scatterpolargl": [
           {
            "marker": {
             "colorbar": {
              "outlinewidth": 0,
              "ticks": ""
             }
            },
            "type": "scatterpolargl"
           }
          ],
          "scatterternary": [
           {
            "marker": {
             "colorbar": {
              "outlinewidth": 0,
              "ticks": ""
             }
            },
            "type": "scatterternary"
           }
          ],
          "surface": [
           {
            "colorbar": {
             "outlinewidth": 0,
             "ticks": ""
            },
            "colorscale": [
             [
              0,
              "#0d0887"
             ],
             [
              0.1111111111111111,
              "#46039f"
             ],
             [
              0.2222222222222222,
              "#7201a8"
             ],
             [
              0.3333333333333333,
              "#9c179e"
             ],
             [
              0.4444444444444444,
              "#bd3786"
             ],
             [
              0.5555555555555556,
              "#d8576b"
             ],
             [
              0.6666666666666666,
              "#ed7953"
             ],
             [
              0.7777777777777778,
              "#fb9f3a"
             ],
             [
              0.8888888888888888,
              "#fdca26"
             ],
             [
              1,
              "#f0f921"
             ]
            ],
            "type": "surface"
           }
          ],
          "table": [
           {
            "cells": {
             "fill": {
              "color": "#EBF0F8"
             },
             "line": {
              "color": "white"
             }
            },
            "header": {
             "fill": {
              "color": "#C8D4E3"
             },
             "line": {
              "color": "white"
             }
            },
            "type": "table"
           }
          ]
         },
         "layout": {
          "annotationdefaults": {
           "arrowcolor": "#2a3f5f",
           "arrowhead": 0,
           "arrowwidth": 1
          },
          "autotypenumbers": "strict",
          "coloraxis": {
           "colorbar": {
            "outlinewidth": 0,
            "ticks": ""
           }
          },
          "colorscale": {
           "diverging": [
            [
             0,
             "#8e0152"
            ],
            [
             0.1,
             "#c51b7d"
            ],
            [
             0.2,
             "#de77ae"
            ],
            [
             0.3,
             "#f1b6da"
            ],
            [
             0.4,
             "#fde0ef"
            ],
            [
             0.5,
             "#f7f7f7"
            ],
            [
             0.6,
             "#e6f5d0"
            ],
            [
             0.7,
             "#b8e186"
            ],
            [
             0.8,
             "#7fbc41"
            ],
            [
             0.9,
             "#4d9221"
            ],
            [
             1,
             "#276419"
            ]
           ],
           "sequential": [
            [
             0,
             "#0d0887"
            ],
            [
             0.1111111111111111,
             "#46039f"
            ],
            [
             0.2222222222222222,
             "#7201a8"
            ],
            [
             0.3333333333333333,
             "#9c179e"
            ],
            [
             0.4444444444444444,
             "#bd3786"
            ],
            [
             0.5555555555555556,
             "#d8576b"
            ],
            [
             0.6666666666666666,
             "#ed7953"
            ],
            [
             0.7777777777777778,
             "#fb9f3a"
            ],
            [
             0.8888888888888888,
             "#fdca26"
            ],
            [
             1,
             "#f0f921"
            ]
           ],
           "sequentialminus": [
            [
             0,
             "#0d0887"
            ],
            [
             0.1111111111111111,
             "#46039f"
            ],
            [
             0.2222222222222222,
             "#7201a8"
            ],
            [
             0.3333333333333333,
             "#9c179e"
            ],
            [
             0.4444444444444444,
             "#bd3786"
            ],
            [
             0.5555555555555556,
             "#d8576b"
            ],
            [
             0.6666666666666666,
             "#ed7953"
            ],
            [
             0.7777777777777778,
             "#fb9f3a"
            ],
            [
             0.8888888888888888,
             "#fdca26"
            ],
            [
             1,
             "#f0f921"
            ]
           ]
          },
          "colorway": [
           "#636efa",
           "#EF553B",
           "#00cc96",
           "#ab63fa",
           "#FFA15A",
           "#19d3f3",
           "#FF6692",
           "#B6E880",
           "#FF97FF",
           "#FECB52"
          ],
          "font": {
           "color": "#2a3f5f"
          },
          "geo": {
           "bgcolor": "white",
           "lakecolor": "white",
           "landcolor": "#E5ECF6",
           "showlakes": true,
           "showland": true,
           "subunitcolor": "white"
          },
          "hoverlabel": {
           "align": "left"
          },
          "hovermode": "closest",
          "mapbox": {
           "style": "light"
          },
          "paper_bgcolor": "white",
          "plot_bgcolor": "#E5ECF6",
          "polar": {
           "angularaxis": {
            "gridcolor": "white",
            "linecolor": "white",
            "ticks": ""
           },
           "bgcolor": "#E5ECF6",
           "radialaxis": {
            "gridcolor": "white",
            "linecolor": "white",
            "ticks": ""
           }
          },
          "scene": {
           "xaxis": {
            "backgroundcolor": "#E5ECF6",
            "gridcolor": "white",
            "gridwidth": 2,
            "linecolor": "white",
            "showbackground": true,
            "ticks": "",
            "zerolinecolor": "white"
           },
           "yaxis": {
            "backgroundcolor": "#E5ECF6",
            "gridcolor": "white",
            "gridwidth": 2,
            "linecolor": "white",
            "showbackground": true,
            "ticks": "",
            "zerolinecolor": "white"
           },
           "zaxis": {
            "backgroundcolor": "#E5ECF6",
            "gridcolor": "white",
            "gridwidth": 2,
            "linecolor": "white",
            "showbackground": true,
            "ticks": "",
            "zerolinecolor": "white"
           }
          },
          "shapedefaults": {
           "line": {
            "color": "#2a3f5f"
           }
          },
          "ternary": {
           "aaxis": {
            "gridcolor": "white",
            "linecolor": "white",
            "ticks": ""
           },
           "baxis": {
            "gridcolor": "white",
            "linecolor": "white",
            "ticks": ""
           },
           "bgcolor": "#E5ECF6",
           "caxis": {
            "gridcolor": "white",
            "linecolor": "white",
            "ticks": ""
           }
          },
          "title": {
           "x": 0.05
          },
          "xaxis": {
           "automargin": true,
           "gridcolor": "white",
           "linecolor": "white",
           "ticks": "",
           "title": {
            "standoff": 15
           },
           "zerolinecolor": "white",
           "zerolinewidth": 2
          },
          "yaxis": {
           "automargin": true,
           "gridcolor": "white",
           "linecolor": "white",
           "ticks": "",
           "title": {
            "standoff": 15
           },
           "zerolinecolor": "white",
           "zerolinewidth": 2
          }
         }
        },
        "xaxis": {
         "anchor": "y",
         "domain": [
          0,
          1
         ],
         "title": {
          "text": "country"
         }
        },
        "yaxis": {
         "anchor": "x",
         "domain": [
          0,
          1
         ],
         "title": {
          "text": "sum of gdpp"
         }
        }
       }
      }
     },
     "metadata": {},
     "output_type": "display_data"
    }
   ],
   "source": [
    "view_distribution(df,'gdpp',False)"
   ]
  },
  {
   "cell_type": "code",
   "execution_count": 12,
   "metadata": {
    "ExecuteTime": {
     "end_time": "2023-04-24T10:50:56.781336Z",
     "start_time": "2023-04-24T10:50:08.505952Z"
    },
    "collapsed": false
   },
   "outputs": [
    {
     "name": "stdout",
     "output_type": "stream",
     "text": [
      "     child_mort   exports    health   imports    income  inflation  \\\n",
      "0      1.291532 -1.138280  0.279088 -0.082455 -0.808245   0.157336   \n",
      "1     -0.538949 -0.479658 -0.097016  0.070837 -0.375369  -0.312347   \n",
      "2     -0.272833 -0.099122 -0.966073 -0.641762 -0.220844   0.789274   \n",
      "3      2.007808  0.775381 -1.448071 -0.165315 -0.585043   1.387054   \n",
      "4     -0.695634  0.160668 -0.286894  0.497568  0.101732  -0.601749   \n",
      "..          ...       ...       ...       ...       ...        ...   \n",
      "162   -0.225578  0.200917 -0.571711  0.240700 -0.738527  -0.489784   \n",
      "163   -0.526514 -0.461363 -0.695862 -1.213499 -0.033542   3.616865   \n",
      "164   -0.372315  1.130305  0.008877  1.380030 -0.658404   0.409732   \n",
      "165    0.448417 -0.406478 -0.597272 -0.517472 -0.658924   1.500916   \n",
      "166    1.114951 -0.150348 -0.338015 -0.662477 -0.721358   0.590015   \n",
      "\n",
      "     life_expec  total_fer      gdpp  \n",
      "0     -1.619092   1.902882 -0.679180  \n",
      "1      0.647866  -0.859973 -0.485623  \n",
      "2      0.670423  -0.038404 -0.465376  \n",
      "3     -1.179234   2.128151 -0.516268  \n",
      "4      0.704258  -0.541946 -0.041817  \n",
      "..          ...        ...       ...  \n",
      "162   -0.852161   0.365754 -0.546913  \n",
      "163    0.546361  -0.316678  0.029323  \n",
      "164    0.286958  -0.661206 -0.637754  \n",
      "165   -0.344633   1.140944 -0.637754  \n",
      "166   -2.092785   1.624609 -0.629546  \n",
      "\n",
      "[167 rows x 9 columns]\n"
     ]
    },
    {
     "data": {
      "image/png": "[encoded data removed]",
      "text/plain": [
       "<Figure size 640x480 with 1 Axes>"
      ]
     },
     "metadata": {},
     "output_type": "display_data"
    }
   ],
   "source": [
    "# Créer un pipeline de prétraitement de données\n",
    "from sklearn.decomposition import PCA\n",
    "\n",
    "\n",
    "pre_trait = StandardScaler()\n",
    "\n",
    "\n",
    "pipeline = Pipeline([\n",
    "    ('pre_trait', pre_trait)  # Etape 2 : standardisation des données\n",
    "])\n",
    "\n",
    "donnees_pretraitees = pipeline.fit_transform(df.iloc[:, 1:])\n",
    "\n",
    "df_pretraite = pd.DataFrame(donnees_pretraitees, columns=df.columns[1:], index=df.index)\n",
    "print(df_pretraite)\n",
    "\n",
    "pca = PCA(n_components=0.95)\n",
    "pca.fit(df_pretraite)\n",
    "# Plot the explained variance\n",
    "plt.figure()\n",
    "plt.plot(np.cumsum(pca.explained_variance_ratio_))\n",
    "plt.xlabel('Number of components')\n",
    "plt.ylabel('Cumulative explained variance')\n",
    "plt.grid(False)"
   ]
  },
  {
   "cell_type": "code",
   "execution_count": 13,
   "metadata": {
    "ExecuteTime": {
     "end_time": "2023-04-24T10:50:57.373511Z",
     "start_time": "2023-04-24T10:50:09.226118Z"
    },
    "collapsed": false
   },
   "outputs": [
    {
     "data": {
      "image/png": "[encoded data removed]",
      "text/plain": [
       "<Figure size 640x480 with 1 Axes>"
      ]
     },
     "metadata": {},
     "output_type": "display_data"
    }
   ],
   "source": [
    "# Get the explained variance ratios for the selected components\n",
    "variance_ratios = pca.explained_variance_ratio_\n",
    "\n",
    "plt.figure()\n",
    "plt.scatter(pca.transform(df.iloc[:,1:])[:, 0], pca.transform(df.iloc[:,1:])[:, 1])\n",
    "plt.xlabel('First principal component ({}% of variance)'.format(round(variance_ratios[0] * 100, 2)))\n",
    "plt.ylabel('Second principal component ({}% of variance)'.format(round(variance_ratios[1] * 100, 2)))\n",
    "plt.grid(False)"
   ]
  },
  {
   "cell_type": "code",
   "execution_count": 14,
   "metadata": {
    "ExecuteTime": {
     "end_time": "2023-04-24T10:50:57.824824Z",
     "start_time": "2023-04-24T10:50:09.799429Z"
    },
    "collapsed": false
   },
   "outputs": [
    {
     "data": {
      "image/png": "[encoded data removed]",
      "text/plain": [
       "<Figure size 640x480 with 1 Axes>"
      ]
     },
     "metadata": {},
     "output_type": "display_data"
    }
   ],
   "source": [
    "from sklearn.cluster import KMeans\n",
    "\n",
    "# Create pipeline\n",
    "pipe = Pipeline(\n",
    "    [(\"Pré traitement de la data\", pre_trait),\n",
    "     (\"Reduction de la dimension\", PCA(n_components=0.95)),\n",
    "     (\"Clustering\", SpectralClustering(n_clusters=3, affinity='nearest_neighbors')\n",
    "    #(\"Clustering\", KMeans(n_clusters=3, random_state=0)\n",
    "      )])\n",
    "\n",
    "#On retire la colone Country\n",
    "pipe.fit(df.iloc[:, 1:])\n",
    "labels = pipe.steps[-1][1].labels_\n",
    "\n",
    "#On visualise les clusters\n",
    "plt.figure()\n",
    "scatter = plt.scatter(pca.transform(df.iloc[:, 1:])[:, 0], pca.transform(df.iloc[:, 1:])[:, 1], c=labels)\n",
    "plt.xlabel('First principal component')\n",
    "plt.ylabel('Second principal component')\n",
    "plt.grid(False)\n",
    "\n",
    "# Ajouter une légende\n",
    "classes = ['Cluster 1', 'Cluster 2', 'Cluster 3']\n",
    "plt.legend(handles=scatter.legend_elements()[0], labels=classes)\n",
    "\n",
    "plt.show()\n",
    "\n",
    "#On ajoute les labels de clasification au dataframe\n",
    "df[\"classification\"] = labels\n"
   ]
  },
  {
   "cell_type": "code",
   "execution_count": 15,
   "metadata": {
    "ExecuteTime": {
     "end_time": "2023-04-24T10:50:57.928827Z",
     "start_time": "2023-04-24T10:50:09.924473Z"
    },
    "collapsed": false
   },
   "outputs": [
    {
     "name": "stdout",
     "output_type": "stream",
     "text": [
      "                            country  child_mort  exports  health   imports  income  inflation  life_expec  total_fer    gdpp  classification\n",
      "0                       Afghanistan        90.2   10.000    7.58   44.9000    1610      9.440        56.2       5.82     553               1\n",
      "1                           Albania        16.6   28.000    6.55   48.6000    9930      4.490        76.3       1.65    4090               0\n",
      "2                           Algeria        27.3   38.400    4.17   31.4000   12900     16.100        76.5       2.89    4460               0\n",
      "3                            Angola       119.0   62.300    2.85   42.9000    5900     22.400        60.1       6.16    3530               1\n",
      "4               Antigua and Barbuda        10.3   45.500    6.03   58.9000   19100      1.440        76.8       2.13   12200               0\n",
      "5                         Argentina        14.5   18.900    8.10   16.0000   18700     20.900        75.8       2.37   10300               0\n",
      "6                           Armenia        18.1   20.800    4.40   45.3000    6700      7.770        73.3       1.69    3220               0\n",
      "7                         Australia         4.8   19.800    8.73   20.9000   41400      1.160        82.0       1.93   51900               2\n",
      "8                           Austria         4.3   51.300   11.00   47.8000   43200      0.873        80.5       1.44   46900               2\n",
      "9                        Azerbaijan        39.2   54.300    5.88   20.7000   16000     13.800        69.1       1.92    5840               0\n",
      "10                          Bahamas        13.8   35.000    7.89   43.7000   22900     -0.393        73.8       1.86   28000               0\n",
      "11                          Bahrain         8.6   69.500    4.97   50.9000   41100      7.440        76.0       2.16   20700               0\n",
      "12                       Bangladesh        49.4   16.000    3.52   21.8000    2440      7.140        70.4       2.33     758               0\n",
      "13                         Barbados        14.2   39.500    7.97   48.7000   15300      0.321        76.7       1.78   16000               0\n",
      "14                          Belarus         5.5   51.400    5.61   64.5000   16200     15.100        70.4       1.49    6030               0\n",
      "15                          Belgium         4.5   76.400   10.70   74.7000   41100      1.880        80.0       1.86   44400               2\n",
      "16                           Belize        18.8   58.200    5.20   57.5000    7880      1.140        71.4       2.71    4340               0\n",
      "17                            Benin       111.0   23.800    4.10   37.2000    1820      0.885        61.8       5.36     758               1\n",
      "18                           Bhutan        42.7   42.500    5.20   70.7000    6420      5.990        72.1       2.38    2180               0\n",
      "19                          Bolivia        46.6   41.200    4.84   34.3000    5410      8.780        71.6       3.20    1980               0\n",
      "20                 Bosnia and Herz.         6.9   29.700   11.10   51.3000    9720      1.400        76.8       1.31    4610               0\n",
      "21                         Botswana        52.5   43.600    8.30   51.3000   13300      8.920        57.1       2.88    6350               0\n",
      "22                           Brazil        19.8   10.700    9.01   11.8000   14500      8.410        74.2       1.80   11200               0\n",
      "23                           Brunei        10.5   67.400    2.84   28.0000   80600     16.700        77.1       1.84   35300               0\n",
      "24                         Bulgaria        10.8   50.200    6.87   53.0000   15300      1.110        73.9       1.57    6840               0\n",
      "25                     Burkina Faso       116.0   19.200    6.74   29.6000    1430      6.810        57.9       5.87     575               1\n",
      "26                          Burundi        93.6    8.920   11.60   39.2000     764     12.300        57.7       6.26     231               1\n",
      "27                         Cambodia        44.4   54.100    5.68   59.5000    2520      3.120        66.1       2.88     786               0\n",
      "28                         Cameroon       108.0   22.200    5.13   27.0000    2660      1.910        57.3       5.11    1310               1\n",
      "29                           Canada         5.6   29.100   11.30   31.0000   40700      2.870        81.3       1.63   47400               2\n",
      "30                       Cape Verde        26.5   32.700    4.09   61.8000    5830      0.505        72.5       2.67    3310               0\n",
      "31             Central African Rep.       149.0   11.800    3.98   26.5000     888      2.010        47.5       5.21     446               1\n",
      "32                             Chad       150.0   36.800    4.53   43.5000    1930      6.390        56.5       6.59     897               1\n",
      "33                            Chile         8.7   37.700    7.96   31.3000   19400      8.960        79.1       1.88   12900               0\n",
      "34                            China        15.7   26.300    5.07   22.6000    9530      6.940        74.6       1.59    4560               0\n",
      "35                         Colombia        18.6   15.900    7.59   17.8000   10900      3.860        76.4       2.01    6250               0\n",
      "36                          Comoros        88.2   16.500    4.51   51.7000    1410      3.870        65.9       4.75     769               1\n",
      "37                  Dem. Rep. Congo       116.0   41.100    7.91   49.6000     609     20.800        57.5       6.54     334               1\n",
      "38                            Congo        63.9   85.100    2.46   54.7000    5190     20.700        60.4       4.95    2740               1\n",
      "39                       Costa Rica        10.2   33.200   10.90   35.0000   13000      6.570        80.4       1.92    8200               0\n",
      "40                    Côte d'Ivoire       111.0   50.600    5.30   43.3000    2690      5.390        56.3       5.27    1220               1\n",
      "41                          Croatia         5.5   37.600    7.76   38.1000   20100      0.821        76.3       1.55   13500               0\n",
      "42                           Cyprus         3.6   50.200    5.97   57.5000   33900      2.010        79.9       1.42   30800               0\n",
      "43                          Czechia         3.4   66.000    7.88   62.9000   28300     -1.430        77.5       1.51   19800               0\n",
      "44                          Denmark         4.1   50.500   11.40   43.6000   44000      3.220        79.5       1.87   58000               2\n",
      "45                   Dominican Rep.        34.4   22.700    6.22   33.3000   11100      5.440        74.6       2.60    5450               0\n",
      "46                          Ecuador        25.1   27.900    8.06   32.4000    9350      7.470        76.7       2.66    4660               0\n",
      "47                            Egypt        29.1   21.300    4.66   26.6000    9860     10.100        70.5       3.19    2600               0\n",
      "48                      El Salvador        19.2   26.900    6.91   46.6000    7300      2.650        74.1       2.27    2990               0\n",
      "49                       Eq. Guinea       111.0   85.800    4.48   58.9000   33700     24.900        60.9       5.21   17100               1\n",
      "50                          Eritrea        55.2    4.790    2.66   23.3000    1420     11.600        61.7       4.61     482               1\n",
      "51                          Estonia         4.5   75.100    6.03   68.7000   22700      1.740        76.0       1.72   14600               0\n",
      "52                             Fiji        24.1   57.800    4.86   63.9000    7350      4.230        65.3       2.67    3650               0\n",
      "53                          Finland         3.0   38.700    8.95   37.4000   39800      0.351        80.0       1.87   46200               2\n",
      "54                           France         4.2   26.800   11.90   28.1000   36900      1.050        81.4       2.03   40600               2\n",
      "55                            Gabon        63.7   57.700    3.50   18.9000   15400     16.600        62.9       4.08    8750               1\n",
      "56                           Gambia        80.3   23.800    5.69   42.7000    1660      4.300        65.5       5.71     562               1\n",
      "57                          Georgia        16.5   35.000   10.10   52.8000    6730      8.550        72.8       1.92    2960               0\n",
      "58                          Germany         4.2   42.300   11.60   37.1000   40400      0.758        80.1       1.39   41800               2\n",
      "59                            Ghana        74.7   29.500    5.22   45.9000    3060     16.600        62.2       4.27    1310               1\n",
      "60                           Greece         3.9   22.100   10.30   30.7000   28700      0.673        80.4       1.48   26900               2\n",
      "61                          Grenada        14.6   23.800    5.86   49.2000   11200      0.480        71.3       2.24    7370               0\n",
      "62                        Guatemala        35.4   25.800    6.85   36.3000    6710      5.140        71.3       3.38    2830               0\n",
      "63                           Guinea       109.0   30.300    4.93   43.2000    1190     16.100        58.0       5.34     648               1\n",
      "64                    Guinea-Bissau       114.0   14.900    8.50   35.2000    1390      2.970        55.6       5.05     547               1\n",
      "65                           Guyana        37.6   51.400    5.38   79.1000    5840      5.730        65.5       2.65    3040               0\n",
      "66                            Haiti       208.0   15.300    6.91   64.7000    1500      5.450        32.1       3.33     662               1\n",
      "67                          Hungary         6.0   81.800    7.33   76.5000   22300      2.330        74.5       1.25   13100               0\n",
      "68                          Iceland         2.6   53.400    9.40   43.3000   38800      5.470        82.0       2.20   41900               2\n",
      "69                            India        58.8   22.600    4.05   27.1000    4410      8.980        66.2       2.60    1350               0\n",
      "70                        Indonesia        33.3   24.300    2.61   22.4000    8430     15.300        69.9       2.48    3110               0\n",
      "71                             Iran        19.3   24.400    5.60   19.4000   17400     15.900        74.5       1.76    6530               0\n",
      "72                             Iraq        36.9   39.400    8.41   34.1000   12700     16.600        67.2       4.56    4500               1\n",
      "73                          Ireland         4.2  103.000    9.19   86.5000   45700     -3.220        80.4       2.05   48700               2\n",
      "74                           Israel         4.6   35.000    7.63   32.9000   29600      1.770        81.4       3.03   30600               2\n",
      "75                            Italy         4.0   25.200    9.53   27.2000   36200      0.319        81.7       1.46   35800               2\n",
      "76                          Jamaica        18.1   31.300    4.81   49.6000    8000      9.810        74.7       2.17    4680               0\n",
      "77                            Japan         3.2   15.000    9.49   13.6000   35800     -1.900        82.8       1.39   44500               2\n",
      "78                           Jordan        21.1   48.300    8.04   69.0000    9470      8.430        75.8       3.66    3680               0\n",
      "79                       Kazakhstan        21.5   44.200    4.29   29.9000   20100     19.500        68.4       2.60    9070               0\n",
      "80                            Kenya        62.2   20.700    4.75   33.6000    2480      2.090        62.8       4.37     967               1\n",
      "81                         Kiribati        62.7   13.300   11.30   79.9000    1730      1.520        60.7       3.84    1490               1\n",
      "82                           Kuwait        10.8   66.700    2.63   30.4000   75200     11.200        78.2       2.21   38500               0\n",
      "83                       Kyrgyzstan        29.6   51.600    6.18   81.7000    2790     10.000        68.5       3.10     880               0\n",
      "84                             Laos        78.9   35.400    4.47   49.3000    3980      9.200        63.8       3.15    1140               1\n",
      "85                           Latvia         7.8   53.700    6.68   55.1000   18300     -0.812        73.1       1.36   11300               0\n",
      "86                          Lebanon        10.3   35.800    7.03   60.2000   16300      0.238        79.8       1.61    8860               0\n",
      "87                          Lesotho        99.7   39.400   11.10  101.0000    2380      4.150        46.5       3.30    1170               1\n",
      "88                          Liberia        89.3   19.100   11.80   92.6000     700      5.470        60.8       5.02     327               1\n",
      "89                            Libya        16.6   65.600    3.88   42.1000   29600     14.200        76.1       2.41   12100               0\n",
      "90                        Lithuania         6.1   65.300    7.04   67.2000   21100      2.380        73.2       1.50   12000               0\n",
      "91                       Luxembourg         2.8  175.000    7.77  142.0000   91700      3.620        81.3       1.63  105000               2\n",
      "92                  North Macedonia        10.4   39.800    7.09   58.1000   11400      2.040        74.0       1.47    4540               0\n",
      "93                       Madagascar        62.2   25.000    3.77   43.0000    1390      8.790        60.8       4.60     413               1\n",
      "94                           Malawi        90.5   22.800    6.59   34.9000    1030     12.100        53.1       5.31     459               1\n",
      "95                         Malaysia         7.9   86.900    4.39   71.0000   21100      7.270        74.5       2.15    9070               0\n",
      "96                         Maldives        13.2   77.600    6.33   65.4000   10500      2.880        77.9       2.23    7100               0\n",
      "97                             Mali       137.0   22.800    4.98   35.1000    1870      4.370        59.5       6.55     708               1\n",
      "98                            Malta         6.8  153.000    8.65  154.0000   28300      3.830        80.3       1.36   21100               0\n",
      "99                       Mauritania        97.4   50.700    4.41   61.2000    3320     18.900        68.2       4.98    1200               1\n",
      "100                       Mauritius        15.0   51.200    6.00   62.2000   15900      1.130        73.4       1.57    8000               0\n",
      "101                      Micronesia        40.0   23.500   14.20   81.0000    3340      3.800        65.4       3.46    2860               0\n",
      "102                         Moldova        17.2   39.200   11.70   78.5000    3910     11.100        69.7       1.27    1630               0\n",
      "103                        Mongolia        26.1   46.700    5.44   56.7000    7710     39.200        66.2       2.64    2650               0\n",
      "104                      Montenegro         6.8   37.000    9.11   62.7000   14000      1.600        76.4       1.77    6680               0\n",
      "105                         Morocco        33.5   32.200    5.20   43.0000    6440      0.976        73.5       2.58    2830               0\n",
      "106                      Mozambique       101.0   31.500    5.21   46.2000     918      7.640        54.5       5.56     419               1\n",
      "107                         Myanmar        64.4    0.109    1.97    0.0659    3720      7.040        66.8       2.41     988               0\n",
      "108                         Namibia        56.0   47.800    6.78   60.7000    8460      3.560        58.6       3.60    5190               0\n",
      "109                           Nepal        47.0    9.580    5.25   36.4000    1990     15.100        68.3       2.61     592               0\n",
      "110                     Netherlands         4.5   72.000   11.90   63.6000   45500      0.848        80.7       1.79   50300               2\n",
      "111                     New Zealand         6.2   30.300   10.10   28.0000   32300      3.730        80.9       2.17   33700               2\n",
      "112                           Niger       123.0   22.200    5.16   49.1000     814      2.550        58.8       7.49     348               1\n",
      "113                         Nigeria       130.0   25.300    5.07   17.4000    5150    104.000        60.5       5.84    2330               1\n",
      "114                          Norway         3.2   39.700    9.48   28.5000   62300      5.950        81.0       1.95   87800               2\n",
      "115                            Oman        11.7   65.700    2.77   41.2000   45300     15.600        76.1       2.90   19300               0\n",
      "116                        Pakistan        92.1   13.500    2.20   19.4000    4280     10.900        65.3       3.85    1040               1\n",
      "117                          Panama        19.7   70.000    8.10   78.2000   15400      2.590        77.8       2.62    8080               0\n",
      "118                        Paraguay        24.1   55.100    5.87   51.5000    7290      6.100        74.1       2.73    3230               0\n",
      "119                            Peru        20.3   27.800    5.08   23.8000    9960      5.710        77.9       2.54    5020               0\n",
      "120                     Philippines        31.9   34.800    3.61   36.6000    5600      4.220        69.0       3.16    2130               0\n",
      "121                          Poland         6.0   40.100    7.46   42.1000   21800      1.660        76.3       1.41   12600               0\n",
      "122                        Portugal         3.9   29.900   11.00   37.4000   27200      0.643        79.8       1.39   22500               2\n",
      "123                           Qatar         9.0   62.300    1.81   23.8000  125000      6.980        79.5       2.07   70300               2\n",
      "124                         Romania        11.5   32.600    5.58   38.8000   17800      3.530        73.7       1.59    8230               0\n",
      "125                          Russia        10.0   29.200    5.08   21.1000   23100     14.200        69.2       1.57   10700               0\n",
      "126                          Rwanda        63.6   12.000   10.50   30.0000    1350      2.610        64.6       4.51     563               1\n",
      "127                           Samoa        18.9   29.200    6.47   53.1000    5400      1.720        71.5       4.34    3450               0\n",
      "128                    Saudi Arabia        15.7   49.600    4.29   33.0000   45400     17.200        75.1       2.96   19300               0\n",
      "129                         Senegal        66.8   24.900    5.66   40.3000    2180      1.850        64.0       5.06    1000               1\n",
      "130                          Serbia         7.6   32.900   10.40   47.9000   12700      5.880        74.7       1.40    5410               0\n",
      "131                      Seychelles        14.4   93.800    3.40  108.0000   20400     -4.210        73.4       2.17   10800               0\n",
      "132                    Sierra Leone       160.0   16.800   13.10   34.5000    1220     17.200        55.0       5.20     399               1\n",
      "133                       Singapore         2.8  200.000    3.96  174.0000   72100     -0.046        82.7       1.15   46600               0\n",
      "134                        Slovakia         7.0   76.300    8.79   77.8000   25200      0.485        75.5       1.43   16600               0\n",
      "135                        Slovenia         3.2   64.300    9.41   62.9000   28700     -0.987        79.5       1.57   23400               0\n",
      "136                     Solomon Is.        28.1   49.300    8.55   81.2000    1780      6.810        61.7       4.24    1290               0\n",
      "137                    South Africa        53.7   28.600    8.94   27.4000   12000      6.350        54.3       2.59    7280               1\n",
      "138                     South Korea         4.1   49.400    6.93   46.2000   30400      3.160        80.1       1.23   22100               0\n",
      "139                           Spain         3.8   25.500    9.54   26.8000   32500      0.160        81.9       1.37   30700               2\n",
      "140                       Sri Lanka        11.2   19.600    2.94   26.8000    8560     22.800        74.4       2.20    2810               0\n",
      "141  St. Vincent and the Grenadines        20.7   26.900    4.47   57.1000    9920      4.440        71.6       2.07    6230               0\n",
      "142                           Sudan        76.7   19.700    6.32   17.2000    3370     19.600        66.3       4.88    1480               1\n",
      "143                        Suriname        24.1   52.500    7.01   38.4000   14200      7.200        70.3       2.52    8300               0\n",
      "144                          Sweden         3.0   46.200    9.63   40.7000   42900      0.991        81.5       1.98   52100               2\n",
      "145                     Switzerland         4.5   64.000   11.50   53.3000   55500      0.317        82.2       1.52   74600               2\n",
      "146                      Tajikistan        52.4   14.900    5.98   58.6000    2110     12.500        69.6       3.51     738               0\n",
      "147                        Tanzania        71.9   18.700    6.01   29.1000    2090      9.250        59.3       5.43     702               1\n",
      "148                        Thailand        14.9   66.500    3.88   60.8000   13500      4.080        76.6       1.55    5080               0\n",
      "149                     Timor-Leste        62.6    2.200    9.12   27.8000    1850     26.500        71.1       6.23    3600               1\n",
      "150                            Togo        90.3   40.200    7.65   57.3000    1210      1.180        58.7       4.87     488               1\n",
      "151                           Tonga        17.4   12.400    5.07   60.3000    4980      3.680        69.9       3.91    3550               0\n",
      "152                         Tunisia        17.4   50.500    6.21   55.3000   10400      3.820        76.9       2.14    4140               0\n",
      "153                          Turkey        19.1   20.400    6.74   25.5000   18000      7.010        78.2       2.15   10700               0\n",
      "154                    Turkmenistan        62.0   76.300    2.50   44.5000    9940      2.310        67.9       2.83    4440               0\n",
      "155                          Uganda        81.0   17.100    9.01   28.6000    1540     10.600        56.8       6.15     595               1\n",
      "156                         Ukraine        11.7   47.100    7.72   51.1000    7820     13.400        70.4       1.44    2970               0\n",
      "157            United Arab Emirates         8.6   77.700    3.66   63.6000   57600     12.500        76.5       1.87   35000               0\n",
      "158                  United Kingdom         5.2   28.200    9.64   30.8000   36200      1.570        80.3       1.92   38900               2\n",
      "159        United States of America         7.3   12.400   17.90   15.8000   49400      1.220        78.7       1.93   48400               2\n",
      "160                         Uruguay        10.6   26.300    8.35   25.4000   17100      4.910        76.4       2.08   11900               0\n",
      "161                      Uzbekistan        36.3   31.700    5.81   28.5000    4240     16.500        68.8       2.34    1380               0\n",
      "162                         Vanuatu        29.2   46.600    5.25   52.7000    2950      2.620        63.0       3.50    2970               0\n",
      "163                       Venezuela        17.1   28.500    4.91   17.6000   16500     45.900        75.4       2.47   13500               0\n",
      "164                         Vietnam        23.3   72.000    6.84   80.2000    4490     12.100        73.1       1.95    1310               0\n",
      "165                           Yemen        56.3   30.000    5.18   34.4000    4480     23.600        67.5       4.67    1310               1\n",
      "166                          Zambia        83.1   37.000    5.89   30.9000    3280     14.000        52.0       5.40    1460               1\n"
     ]
    }
   ],
   "source": [
    "print(df.to_string())"
   ]
  },
  {
   "cell_type": "code",
   "execution_count": 16,
   "metadata": {
    "ExecuteTime": {
     "end_time": "2023-04-24T10:51:43.631106Z",
     "start_time": "2023-04-24T10:50:55.185513Z"
    }
   },
   "outputs": [
    {
     "name": "stderr",
     "output_type": "stream",
     "text": [
      "/Library/Frameworks/Python.framework/Versions/3.10/lib/python3.10/site-packages/geopandas/plotting.py:693: UserWarning:\n",
      "\n",
      "The GeoDataFrame you are attempting to plot is empty. Nothing has been displayed.\n",
      "\n"
     ]
    },
    {
     "data": {
      "image/png": "[encoded data removed]",
      "text/plain": [
       "<Figure size 640x480 with 1 Axes>"
      ]
     },
     "metadata": {},
     "output_type": "display_data"
    }
   ],
   "source": [
    "world = gpd.read_file(gpd.datasets.get_path('naturalearth_lowres'))\n",
    "ax = world.plot()\n",
    "\n",
    "#Initialisation de la carte en gris\n",
    "for i in range(len(world.name)):\n",
    "    world[world.name == world.name[i]].plot(color='grey',ax=ax)\n",
    "    \n",
    "#coloration de la carte en fonction des clusters\n",
    "for i in range(len(df.country)):\n",
    "    match df.classification[i]:\n",
    "        case 0:\n",
    "            world[world.name == df.country[i]].plot(color='yellow',ax=ax)\n",
    "        case 1:\n",
    "            world[world.name == df.country[i]].plot(color='green',ax=ax)\n",
    "        case 2:\n",
    "            world[world.name == df.country[i]].plot(color='red',ax=ax)\n",
    "\n",
    "plt.show()"
   ]
  },
  {
   "cell_type": "code",
   "execution_count": 17,
   "metadata": {},
   "outputs": [
    {
     "name": "stderr",
     "output_type": "stream",
     "text": [
      "/Library/Frameworks/Python.framework/Versions/3.10/lib/python3.10/site-packages/sklearn/cluster/_kmeans.py:1318: FutureWarning:\n",
      "\n",
      "algorithm='auto' is deprecated, it will be removed in 1.3. Using 'lloyd' instead.\n",
      "\n",
      "/Library/Frameworks/Python.framework/Versions/3.10/lib/python3.10/site-packages/sklearn/cluster/_kmeans.py:1318: FutureWarning:\n",
      "\n",
      "algorithm='full' is deprecated, it will be removed in 1.3. Using 'lloyd' instead.\n",
      "\n",
      "/Library/Frameworks/Python.framework/Versions/3.10/lib/python3.10/site-packages/sklearn/cluster/_kmeans.py:1318: FutureWarning:\n",
      "\n",
      "algorithm='auto' is deprecated, it will be removed in 1.3. Using 'lloyd' instead.\n",
      "\n",
      "/Library/Frameworks/Python.framework/Versions/3.10/lib/python3.10/site-packages/sklearn/cluster/_kmeans.py:1318: FutureWarning:\n",
      "\n",
      "algorithm='full' is deprecated, it will be removed in 1.3. Using 'lloyd' instead.\n",
      "\n",
      "/Library/Frameworks/Python.framework/Versions/3.10/lib/python3.10/site-packages/sklearn/cluster/_kmeans.py:1318: FutureWarning:\n",
      "\n",
      "algorithm='auto' is deprecated, it will be removed in 1.3. Using 'lloyd' instead.\n",
      "\n",
      "/Library/Frameworks/Python.framework/Versions/3.10/lib/python3.10/site-packages/sklearn/cluster/_kmeans.py:1318: FutureWarning:\n",
      "\n",
      "algorithm='full' is deprecated, it will be removed in 1.3. Using 'lloyd' instead.\n",
      "\n",
      "/Library/Frameworks/Python.framework/Versions/3.10/lib/python3.10/site-packages/sklearn/cluster/_kmeans.py:1318: FutureWarning:\n",
      "\n",
      "algorithm='auto' is deprecated, it will be removed in 1.3. Using 'lloyd' instead.\n",
      "\n",
      "/Library/Frameworks/Python.framework/Versions/3.10/lib/python3.10/site-packages/sklearn/cluster/_kmeans.py:1318: FutureWarning:\n",
      "\n",
      "algorithm='full' is deprecated, it will be removed in 1.3. Using 'lloyd' instead.\n",
      "\n",
      "/Library/Frameworks/Python.framework/Versions/3.10/lib/python3.10/site-packages/sklearn/cluster/_kmeans.py:1318: FutureWarning:\n",
      "\n",
      "algorithm='auto' is deprecated, it will be removed in 1.3. Using 'lloyd' instead.\n",
      "\n",
      "/Library/Frameworks/Python.framework/Versions/3.10/lib/python3.10/site-packages/sklearn/cluster/_kmeans.py:1318: FutureWarning:\n",
      "\n",
      "algorithm='full' is deprecated, it will be removed in 1.3. Using 'lloyd' instead.\n",
      "\n",
      "/Library/Frameworks/Python.framework/Versions/3.10/lib/python3.10/site-packages/sklearn/cluster/_kmeans.py:1318: FutureWarning:\n",
      "\n",
      "algorithm='auto' is deprecated, it will be removed in 1.3. Using 'lloyd' instead.\n",
      "\n",
      "/Library/Frameworks/Python.framework/Versions/3.10/lib/python3.10/site-packages/sklearn/cluster/_kmeans.py:1318: FutureWarning:\n",
      "\n",
      "algorithm='full' is deprecated, it will be removed in 1.3. Using 'lloyd' instead.\n",
      "\n",
      "/Library/Frameworks/Python.framework/Versions/3.10/lib/python3.10/site-packages/sklearn/cluster/_kmeans.py:1318: FutureWarning:\n",
      "\n",
      "algorithm='auto' is deprecated, it will be removed in 1.3. Using 'lloyd' instead.\n",
      "\n",
      "/Library/Frameworks/Python.framework/Versions/3.10/lib/python3.10/site-packages/sklearn/cluster/_kmeans.py:1318: FutureWarning:\n",
      "\n",
      "algorithm='full' is deprecated, it will be removed in 1.3. Using 'lloyd' instead.\n",
      "\n",
      "/Library/Frameworks/Python.framework/Versions/3.10/lib/python3.10/site-packages/sklearn/cluster/_kmeans.py:1318: FutureWarning:\n",
      "\n",
      "algorithm='auto' is deprecated, it will be removed in 1.3. Using 'lloyd' instead.\n",
      "\n",
      "/Library/Frameworks/Python.framework/Versions/3.10/lib/python3.10/site-packages/sklearn/cluster/_kmeans.py:1318: FutureWarning:\n",
      "\n",
      "algorithm='full' is deprecated, it will be removed in 1.3. Using 'lloyd' instead.\n",
      "\n",
      "/Library/Frameworks/Python.framework/Versions/3.10/lib/python3.10/site-packages/sklearn/cluster/_kmeans.py:1318: FutureWarning:\n",
      "\n",
      "algorithm='auto' is deprecated, it will be removed in 1.3. Using 'lloyd' instead.\n",
      "\n",
      "/Library/Frameworks/Python.framework/Versions/3.10/lib/python3.10/site-packages/sklearn/cluster/_kmeans.py:1318: FutureWarning:\n",
      "\n",
      "algorithm='full' is deprecated, it will be removed in 1.3. Using 'lloyd' instead.\n",
      "\n",
      "/Library/Frameworks/Python.framework/Versions/3.10/lib/python3.10/site-packages/sklearn/cluster/_kmeans.py:1318: FutureWarning:\n",
      "\n",
      "algorithm='auto' is deprecated, it will be removed in 1.3. Using 'lloyd' instead.\n",
      "\n",
      "/Library/Frameworks/Python.framework/Versions/3.10/lib/python3.10/site-packages/sklearn/cluster/_kmeans.py:1318: FutureWarning:\n",
      "\n",
      "algorithm='full' is deprecated, it will be removed in 1.3. Using 'lloyd' instead.\n",
      "\n",
      "/Library/Frameworks/Python.framework/Versions/3.10/lib/python3.10/site-packages/sklearn/cluster/_kmeans.py:1318: FutureWarning:\n",
      "\n",
      "algorithm='auto' is deprecated, it will be removed in 1.3. Using 'lloyd' instead.\n",
      "\n",
      "/Library/Frameworks/Python.framework/Versions/3.10/lib/python3.10/site-packages/sklearn/cluster/_kmeans.py:1318: FutureWarning:\n",
      "\n",
      "algorithm='full' is deprecated, it will be removed in 1.3. Using 'lloyd' instead.\n",
      "\n",
      "/Library/Frameworks/Python.framework/Versions/3.10/lib/python3.10/site-packages/sklearn/cluster/_kmeans.py:1318: FutureWarning:\n",
      "\n",
      "algorithm='auto' is deprecated, it will be removed in 1.3. Using 'lloyd' instead.\n",
      "\n",
      "/Library/Frameworks/Python.framework/Versions/3.10/lib/python3.10/site-packages/sklearn/cluster/_kmeans.py:1318: FutureWarning:\n",
      "\n",
      "algorithm='full' is deprecated, it will be removed in 1.3. Using 'lloyd' instead.\n",
      "\n",
      "/Library/Frameworks/Python.framework/Versions/3.10/lib/python3.10/site-packages/sklearn/cluster/_kmeans.py:1318: FutureWarning:\n",
      "\n",
      "algorithm='auto' is deprecated, it will be removed in 1.3. Using 'lloyd' instead.\n",
      "\n",
      "/Library/Frameworks/Python.framework/Versions/3.10/lib/python3.10/site-packages/sklearn/cluster/_kmeans.py:1318: FutureWarning:\n",
      "\n",
      "algorithm='full' is deprecated, it will be removed in 1.3. Using 'lloyd' instead.\n",
      "\n",
      "/Library/Frameworks/Python.framework/Versions/3.10/lib/python3.10/site-packages/sklearn/cluster/_kmeans.py:1318: FutureWarning:\n",
      "\n",
      "algorithm='auto' is deprecated, it will be removed in 1.3. Using 'lloyd' instead.\n",
      "\n",
      "/Library/Frameworks/Python.framework/Versions/3.10/lib/python3.10/site-packages/sklearn/cluster/_kmeans.py:1318: FutureWarning:\n",
      "\n",
      "algorithm='full' is deprecated, it will be removed in 1.3. Using 'lloyd' instead.\n",
      "\n",
      "/Library/Frameworks/Python.framework/Versions/3.10/lib/python3.10/site-packages/sklearn/cluster/_kmeans.py:1318: FutureWarning:\n",
      "\n",
      "algorithm='auto' is deprecated, it will be removed in 1.3. Using 'lloyd' instead.\n",
      "\n",
      "/Library/Frameworks/Python.framework/Versions/3.10/lib/python3.10/site-packages/sklearn/cluster/_kmeans.py:1318: FutureWarning:\n",
      "\n",
      "algorithm='full' is deprecated, it will be removed in 1.3. Using 'lloyd' instead.\n",
      "\n",
      "/Library/Frameworks/Python.framework/Versions/3.10/lib/python3.10/site-packages/sklearn/cluster/_kmeans.py:1318: FutureWarning:\n",
      "\n",
      "algorithm='auto' is deprecated, it will be removed in 1.3. Using 'lloyd' instead.\n",
      "\n",
      "/Library/Frameworks/Python.framework/Versions/3.10/lib/python3.10/site-packages/sklearn/cluster/_kmeans.py:1318: FutureWarning:\n",
      "\n",
      "algorithm='full' is deprecated, it will be removed in 1.3. Using 'lloyd' instead.\n",
      "\n"
     ]
    },
    {
     "name": "stdout",
     "output_type": "stream",
     "text": [
      "Best score:  0.7003508044174154\n",
      "Best params:  {'algorithm': 'auto', 'init': 'k-means++', 'n_clusters': 3, 'max_iter': 300}\n"
     ]
    },
    {
     "data": {
      "image/png": "[encoded data removed]",
      "text/plain": [
       "<Figure size 640x480 with 1 Axes>"
      ]
     },
     "metadata": {},
     "output_type": "display_data"
    }
   ],
   "source": [
    "def make_generator(parameters):\n",
    "    if not parameters:\n",
    "        yield dict()\n",
    "    else:\n",
    "        key_to_iterate = list(parameters.keys())[0]\n",
    "        next_round_parameters = {p : parameters[p]\n",
    "                    for p in parameters if p != key_to_iterate}\n",
    "        for val in parameters[key_to_iterate]:\n",
    "            for pars in make_generator(next_round_parameters):\n",
    "                temp_res = pars\n",
    "                temp_res[key_to_iterate] = val\n",
    "                yield temp_res\n",
    "\n",
    "\n",
    "# add fix parameters - here - it's just a random one\n",
    "fixed_params = {\"max_iter\":300 }\n",
    "_data = df.iloc[:,1:]\n",
    "param_grid = {\"n_clusters\": range(3, 11),\n",
    "              \"init\": ['k-means++', 'random'],\n",
    "              \"algorithm\": ['auto', 'full', 'elkan']}\n",
    "\n",
    "best_score = -1\n",
    "best_params = {}\n",
    "scores = []\n",
    "for params in make_generator(param_grid):\n",
    "    params.update(fixed_params)\n",
    "    ca = KMeans( **params )\n",
    "    ca.fit(_data)\n",
    "    score = silhouette_score(_data, ca.labels_, metric='euclidean')\n",
    "    scores.append(score)\n",
    "    if score > best_score:\n",
    "        best_score = score\n",
    "        best_params = params\n",
    "\n",
    "print(\"Best score: \", best_score)\n",
    "print(\"Best params: \", best_params)\n",
    "plt.hist(scores)\n",
    "plt.xlabel('Score')\n",
    "plt.ylabel('Frequency')\n",
    "plt.title('Histogram of Scores')\n",
    "plt.show()"
   ]
  },
  {
   "cell_type": "code",
   "execution_count": 18,
   "metadata": {},
   "outputs": [],
   "source": [
    "def run_clustering_algorithm(data, algorithm_type, fixed_params, param_grid, metric=\"euclidean\"):\n",
    "    # define the generator function\n",
    "    def make_generator(parameters):\n",
    "        if not parameters:\n",
    "            yield dict()\n",
    "        else:\n",
    "            key_to_iterate = list(parameters.keys())[0]\n",
    "            next_round_parameters = {p : parameters[p]\n",
    "                        for p in parameters if p != key_to_iterate}\n",
    "            for val in parameters[key_to_iterate]:\n",
    "                for pars in make_generator(next_round_parameters):\n",
    "                    temp_res = pars\n",
    "                    temp_res[key_to_iterate] = val\n",
    "                    yield temp_res\n",
    "\n",
    "    # initialize variables for tracking best score and params\n",
    "    best_score = -1\n",
    "    best_params = {}\n",
    "    scores = []\n",
    "\n",
    "    # iterate over parameter grid\n",
    "    for params in make_generator(param_grid):\n",
    "        # update with fixed params\n",
    "        params.update(fixed_params)\n",
    "\n",
    "        # create clustering algorithm object\n",
    "        if algorithm_type == \"spectral\":\n",
    "            clustering_algorithm = SpectralClustering(**params)\n",
    "        elif algorithm_type == \"kmeans\":\n",
    "            clustering_algorithm = KMeans(**params)\n",
    "        else:\n",
    "            raise ValueError(\"Invalid algorithm type. Must be 'spectral' or 'kmeans'.\")\n",
    "\n",
    "        # fit and score the clustering algorithm\n",
    "        clustering_algorithm.fit(data)\n",
    "        score = silhouette_score(data, clustering_algorithm.labels_, metric=metric)\n",
    "        scores.append(score)\n",
    "\n",
    "        # update best score and params if applicable\n",
    "        if score > best_score:\n",
    "            best_score = score\n",
    "            best_params = params\n",
    "\n",
    "    # print best score and params\n",
    "    print(\"Best score: \", best_score)\n",
    "    print(\"Best params: \", best_params)\n",
    "\n",
    "    # plot histogram of scores\n",
    "    plt.hist(scores)\n",
    "    plt.xlabel('Score')\n",
    "    plt.ylabel('Frequency')\n",
    "    plt.title('Histogram of Scores')\n",
    "    plt.show()"
   ]
  },
  {
   "cell_type": "code",
   "execution_count": 19,
   "metadata": {},
   "outputs": [
    {
     "name": "stderr",
     "output_type": "stream",
     "text": [
      "/Library/Frameworks/Python.framework/Versions/3.10/lib/python3.10/site-packages/sklearn/manifold/_spectral_embedding.py:259: UserWarning:\n",
      "\n",
      "Graph is not fully connected, spectral embedding may not work as expected.\n",
      "\n",
      "/Library/Frameworks/Python.framework/Versions/3.10/lib/python3.10/site-packages/sklearn/manifold/_spectral_embedding.py:259: UserWarning:\n",
      "\n",
      "Graph is not fully connected, spectral embedding may not work as expected.\n",
      "\n",
      "/Library/Frameworks/Python.framework/Versions/3.10/lib/python3.10/site-packages/sklearn/manifold/_spectral_embedding.py:259: UserWarning:\n",
      "\n",
      "Graph is not fully connected, spectral embedding may not work as expected.\n",
      "\n",
      "/Library/Frameworks/Python.framework/Versions/3.10/lib/python3.10/site-packages/sklearn/manifold/_spectral_embedding.py:259: UserWarning:\n",
      "\n",
      "Graph is not fully connected, spectral embedding may not work as expected.\n",
      "\n",
      "/Library/Frameworks/Python.framework/Versions/3.10/lib/python3.10/site-packages/sklearn/manifold/_spectral_embedding.py:259: UserWarning:\n",
      "\n",
      "Graph is not fully connected, spectral embedding may not work as expected.\n",
      "\n",
      "/Library/Frameworks/Python.framework/Versions/3.10/lib/python3.10/site-packages/sklearn/manifold/_spectral_embedding.py:259: UserWarning:\n",
      "\n",
      "Graph is not fully connected, spectral embedding may not work as expected.\n",
      "\n",
      "/Library/Frameworks/Python.framework/Versions/3.10/lib/python3.10/site-packages/sklearn/manifold/_spectral_embedding.py:259: UserWarning:\n",
      "\n",
      "Graph is not fully connected, spectral embedding may not work as expected.\n",
      "\n",
      "/Library/Frameworks/Python.framework/Versions/3.10/lib/python3.10/site-packages/sklearn/manifold/_spectral_embedding.py:259: UserWarning:\n",
      "\n",
      "Graph is not fully connected, spectral embedding may not work as expected.\n",
      "\n",
      "/Library/Frameworks/Python.framework/Versions/3.10/lib/python3.10/site-packages/sklearn/manifold/_spectral_embedding.py:259: UserWarning:\n",
      "\n",
      "Graph is not fully connected, spectral embedding may not work as expected.\n",
      "\n",
      "/Library/Frameworks/Python.framework/Versions/3.10/lib/python3.10/site-packages/sklearn/manifold/_spectral_embedding.py:259: UserWarning:\n",
      "\n",
      "Graph is not fully connected, spectral embedding may not work as expected.\n",
      "\n",
      "/Library/Frameworks/Python.framework/Versions/3.10/lib/python3.10/site-packages/sklearn/manifold/_spectral_embedding.py:259: UserWarning:\n",
      "\n",
      "Graph is not fully connected, spectral embedding may not work as expected.\n",
      "\n",
      "/Library/Frameworks/Python.framework/Versions/3.10/lib/python3.10/site-packages/sklearn/manifold/_spectral_embedding.py:259: UserWarning:\n",
      "\n",
      "Graph is not fully connected, spectral embedding may not work as expected.\n",
      "\n",
      "/Library/Frameworks/Python.framework/Versions/3.10/lib/python3.10/site-packages/sklearn/manifold/_spectral_embedding.py:259: UserWarning:\n",
      "\n",
      "Graph is not fully connected, spectral embedding may not work as expected.\n",
      "\n",
      "/Library/Frameworks/Python.framework/Versions/3.10/lib/python3.10/site-packages/sklearn/manifold/_spectral_embedding.py:259: UserWarning:\n",
      "\n",
      "Graph is not fully connected, spectral embedding may not work as expected.\n",
      "\n",
      "/Library/Frameworks/Python.framework/Versions/3.10/lib/python3.10/site-packages/sklearn/manifold/_spectral_embedding.py:259: UserWarning:\n",
      "\n",
      "Graph is not fully connected, spectral embedding may not work as expected.\n",
      "\n",
      "/Library/Frameworks/Python.framework/Versions/3.10/lib/python3.10/site-packages/sklearn/manifold/_spectral_embedding.py:259: UserWarning:\n",
      "\n",
      "Graph is not fully connected, spectral embedding may not work as expected.\n",
      "\n",
      "/Library/Frameworks/Python.framework/Versions/3.10/lib/python3.10/site-packages/sklearn/manifold/_spectral_embedding.py:259: UserWarning:\n",
      "\n",
      "Graph is not fully connected, spectral embedding may not work as expected.\n",
      "\n",
      "/Library/Frameworks/Python.framework/Versions/3.10/lib/python3.10/site-packages/sklearn/manifold/_spectral_embedding.py:259: UserWarning:\n",
      "\n",
      "Graph is not fully connected, spectral embedding may not work as expected.\n",
      "\n",
      "/Library/Frameworks/Python.framework/Versions/3.10/lib/python3.10/site-packages/sklearn/manifold/_spectral_embedding.py:259: UserWarning:\n",
      "\n",
      "Graph is not fully connected, spectral embedding may not work as expected.\n",
      "\n",
      "/Library/Frameworks/Python.framework/Versions/3.10/lib/python3.10/site-packages/sklearn/manifold/_spectral_embedding.py:259: UserWarning:\n",
      "\n",
      "Graph is not fully connected, spectral embedding may not work as expected.\n",
      "\n",
      "/Library/Frameworks/Python.framework/Versions/3.10/lib/python3.10/site-packages/sklearn/manifold/_spectral_embedding.py:259: UserWarning:\n",
      "\n",
      "Graph is not fully connected, spectral embedding may not work as expected.\n",
      "\n",
      "/Library/Frameworks/Python.framework/Versions/3.10/lib/python3.10/site-packages/sklearn/manifold/_spectral_embedding.py:259: UserWarning:\n",
      "\n",
      "Graph is not fully connected, spectral embedding may not work as expected.\n",
      "\n",
      "/Library/Frameworks/Python.framework/Versions/3.10/lib/python3.10/site-packages/sklearn/manifold/_spectral_embedding.py:259: UserWarning:\n",
      "\n",
      "Graph is not fully connected, spectral embedding may not work as expected.\n",
      "\n",
      "/Library/Frameworks/Python.framework/Versions/3.10/lib/python3.10/site-packages/sklearn/manifold/_spectral_embedding.py:259: UserWarning:\n",
      "\n",
      "Graph is not fully connected, spectral embedding may not work as expected.\n",
      "\n",
      "/Library/Frameworks/Python.framework/Versions/3.10/lib/python3.10/site-packages/sklearn/manifold/_spectral_embedding.py:259: UserWarning:\n",
      "\n",
      "Graph is not fully connected, spectral embedding may not work as expected.\n",
      "\n",
      "/Library/Frameworks/Python.framework/Versions/3.10/lib/python3.10/site-packages/sklearn/manifold/_spectral_embedding.py:259: UserWarning:\n",
      "\n",
      "Graph is not fully connected, spectral embedding may not work as expected.\n",
      "\n",
      "/Library/Frameworks/Python.framework/Versions/3.10/lib/python3.10/site-packages/sklearn/manifold/_spectral_embedding.py:259: UserWarning:\n",
      "\n",
      "Graph is not fully connected, spectral embedding may not work as expected.\n",
      "\n",
      "/Library/Frameworks/Python.framework/Versions/3.10/lib/python3.10/site-packages/sklearn/manifold/_spectral_embedding.py:259: UserWarning:\n",
      "\n",
      "Graph is not fully connected, spectral embedding may not work as expected.\n",
      "\n",
      "/Library/Frameworks/Python.framework/Versions/3.10/lib/python3.10/site-packages/sklearn/manifold/_spectral_embedding.py:259: UserWarning:\n",
      "\n",
      "Graph is not fully connected, spectral embedding may not work as expected.\n",
      "\n",
      "/Library/Frameworks/Python.framework/Versions/3.10/lib/python3.10/site-packages/sklearn/manifold/_spectral_embedding.py:259: UserWarning:\n",
      "\n",
      "Graph is not fully connected, spectral embedding may not work as expected.\n",
      "\n",
      "/Library/Frameworks/Python.framework/Versions/3.10/lib/python3.10/site-packages/sklearn/manifold/_spectral_embedding.py:259: UserWarning:\n",
      "\n",
      "Graph is not fully connected, spectral embedding may not work as expected.\n",
      "\n",
      "/Library/Frameworks/Python.framework/Versions/3.10/lib/python3.10/site-packages/sklearn/manifold/_spectral_embedding.py:259: UserWarning:\n",
      "\n",
      "Graph is not fully connected, spectral embedding may not work as expected.\n",
      "\n",
      "/Library/Frameworks/Python.framework/Versions/3.10/lib/python3.10/site-packages/sklearn/manifold/_spectral_embedding.py:259: UserWarning:\n",
      "\n",
      "Graph is not fully connected, spectral embedding may not work as expected.\n",
      "\n",
      "/Library/Frameworks/Python.framework/Versions/3.10/lib/python3.10/site-packages/sklearn/manifold/_spectral_embedding.py:259: UserWarning:\n",
      "\n",
      "Graph is not fully connected, spectral embedding may not work as expected.\n",
      "\n",
      "/Library/Frameworks/Python.framework/Versions/3.10/lib/python3.10/site-packages/sklearn/manifold/_spectral_embedding.py:259: UserWarning:\n",
      "\n",
      "Graph is not fully connected, spectral embedding may not work as expected.\n",
      "\n",
      "/Library/Frameworks/Python.framework/Versions/3.10/lib/python3.10/site-packages/sklearn/manifold/_spectral_embedding.py:259: UserWarning:\n",
      "\n",
      "Graph is not fully connected, spectral embedding may not work as expected.\n",
      "\n",
      "/Library/Frameworks/Python.framework/Versions/3.10/lib/python3.10/site-packages/sklearn/manifold/_spectral_embedding.py:259: UserWarning:\n",
      "\n",
      "Graph is not fully connected, spectral embedding may not work as expected.\n",
      "\n",
      "/Library/Frameworks/Python.framework/Versions/3.10/lib/python3.10/site-packages/sklearn/manifold/_spectral_embedding.py:259: UserWarning:\n",
      "\n",
      "Graph is not fully connected, spectral embedding may not work as expected.\n",
      "\n",
      "/Library/Frameworks/Python.framework/Versions/3.10/lib/python3.10/site-packages/sklearn/manifold/_spectral_embedding.py:259: UserWarning:\n",
      "\n",
      "Graph is not fully connected, spectral embedding may not work as expected.\n",
      "\n",
      "/Library/Frameworks/Python.framework/Versions/3.10/lib/python3.10/site-packages/sklearn/manifold/_spectral_embedding.py:259: UserWarning:\n",
      "\n",
      "Graph is not fully connected, spectral embedding may not work as expected.\n",
      "\n",
      "/Library/Frameworks/Python.framework/Versions/3.10/lib/python3.10/site-packages/sklearn/manifold/_spectral_embedding.py:259: UserWarning:\n",
      "\n",
      "Graph is not fully connected, spectral embedding may not work as expected.\n",
      "\n",
      "/Library/Frameworks/Python.framework/Versions/3.10/lib/python3.10/site-packages/sklearn/manifold/_spectral_embedding.py:259: UserWarning:\n",
      "\n",
      "Graph is not fully connected, spectral embedding may not work as expected.\n",
      "\n",
      "/Library/Frameworks/Python.framework/Versions/3.10/lib/python3.10/site-packages/sklearn/manifold/_spectral_embedding.py:259: UserWarning:\n",
      "\n",
      "Graph is not fully connected, spectral embedding may not work as expected.\n",
      "\n",
      "/Library/Frameworks/Python.framework/Versions/3.10/lib/python3.10/site-packages/sklearn/manifold/_spectral_embedding.py:259: UserWarning:\n",
      "\n",
      "Graph is not fully connected, spectral embedding may not work as expected.\n",
      "\n",
      "/Library/Frameworks/Python.framework/Versions/3.10/lib/python3.10/site-packages/sklearn/manifold/_spectral_embedding.py:259: UserWarning:\n",
      "\n",
      "Graph is not fully connected, spectral embedding may not work as expected.\n",
      "\n",
      "/Library/Frameworks/Python.framework/Versions/3.10/lib/python3.10/site-packages/sklearn/manifold/_spectral_embedding.py:259: UserWarning:\n",
      "\n",
      "Graph is not fully connected, spectral embedding may not work as expected.\n",
      "\n",
      "/Library/Frameworks/Python.framework/Versions/3.10/lib/python3.10/site-packages/sklearn/manifold/_spectral_embedding.py:259: UserWarning:\n",
      "\n",
      "Graph is not fully connected, spectral embedding may not work as expected.\n",
      "\n",
      "/Library/Frameworks/Python.framework/Versions/3.10/lib/python3.10/site-packages/sklearn/manifold/_spectral_embedding.py:259: UserWarning:\n",
      "\n",
      "Graph is not fully connected, spectral embedding may not work as expected.\n",
      "\n",
      "/Library/Frameworks/Python.framework/Versions/3.10/lib/python3.10/site-packages/sklearn/manifold/_spectral_embedding.py:259: UserWarning:\n",
      "\n",
      "Graph is not fully connected, spectral embedding may not work as expected.\n",
      "\n",
      "/Library/Frameworks/Python.framework/Versions/3.10/lib/python3.10/site-packages/sklearn/manifold/_spectral_embedding.py:259: UserWarning:\n",
      "\n",
      "Graph is not fully connected, spectral embedding may not work as expected.\n",
      "\n",
      "/Library/Frameworks/Python.framework/Versions/3.10/lib/python3.10/site-packages/sklearn/manifold/_spectral_embedding.py:259: UserWarning:\n",
      "\n",
      "Graph is not fully connected, spectral embedding may not work as expected.\n",
      "\n",
      "/Library/Frameworks/Python.framework/Versions/3.10/lib/python3.10/site-packages/sklearn/manifold/_spectral_embedding.py:259: UserWarning:\n",
      "\n",
      "Graph is not fully connected, spectral embedding may not work as expected.\n",
      "\n",
      "/Library/Frameworks/Python.framework/Versions/3.10/lib/python3.10/site-packages/sklearn/manifold/_spectral_embedding.py:259: UserWarning:\n",
      "\n",
      "Graph is not fully connected, spectral embedding may not work as expected.\n",
      "\n",
      "/Library/Frameworks/Python.framework/Versions/3.10/lib/python3.10/site-packages/sklearn/manifold/_spectral_embedding.py:259: UserWarning:\n",
      "\n",
      "Graph is not fully connected, spectral embedding may not work as expected.\n",
      "\n",
      "/Library/Frameworks/Python.framework/Versions/3.10/lib/python3.10/site-packages/sklearn/manifold/_spectral_embedding.py:259: UserWarning:\n",
      "\n",
      "Graph is not fully connected, spectral embedding may not work as expected.\n",
      "\n",
      "/Library/Frameworks/Python.framework/Versions/3.10/lib/python3.10/site-packages/sklearn/manifold/_spectral_embedding.py:259: UserWarning:\n",
      "\n",
      "Graph is not fully connected, spectral embedding may not work as expected.\n",
      "\n",
      "/Library/Frameworks/Python.framework/Versions/3.10/lib/python3.10/site-packages/sklearn/manifold/_spectral_embedding.py:259: UserWarning:\n",
      "\n",
      "Graph is not fully connected, spectral embedding may not work as expected.\n",
      "\n",
      "/Library/Frameworks/Python.framework/Versions/3.10/lib/python3.10/site-packages/sklearn/manifold/_spectral_embedding.py:259: UserWarning:\n",
      "\n",
      "Graph is not fully connected, spectral embedding may not work as expected.\n",
      "\n",
      "/Library/Frameworks/Python.framework/Versions/3.10/lib/python3.10/site-packages/sklearn/manifold/_spectral_embedding.py:259: UserWarning:\n",
      "\n",
      "Graph is not fully connected, spectral embedding may not work as expected.\n",
      "\n",
      "/Library/Frameworks/Python.framework/Versions/3.10/lib/python3.10/site-packages/sklearn/manifold/_spectral_embedding.py:259: UserWarning:\n",
      "\n",
      "Graph is not fully connected, spectral embedding may not work as expected.\n",
      "\n",
      "/Library/Frameworks/Python.framework/Versions/3.10/lib/python3.10/site-packages/sklearn/manifold/_spectral_embedding.py:259: UserWarning:\n",
      "\n",
      "Graph is not fully connected, spectral embedding may not work as expected.\n",
      "\n",
      "/Library/Frameworks/Python.framework/Versions/3.10/lib/python3.10/site-packages/sklearn/manifold/_spectral_embedding.py:259: UserWarning:\n",
      "\n",
      "Graph is not fully connected, spectral embedding may not work as expected.\n",
      "\n",
      "/Library/Frameworks/Python.framework/Versions/3.10/lib/python3.10/site-packages/sklearn/manifold/_spectral_embedding.py:259: UserWarning:\n",
      "\n",
      "Graph is not fully connected, spectral embedding may not work as expected.\n",
      "\n",
      "/Library/Frameworks/Python.framework/Versions/3.10/lib/python3.10/site-packages/sklearn/manifold/_spectral_embedding.py:259: UserWarning:\n",
      "\n",
      "Graph is not fully connected, spectral embedding may not work as expected.\n",
      "\n",
      "/Library/Frameworks/Python.framework/Versions/3.10/lib/python3.10/site-packages/sklearn/manifold/_spectral_embedding.py:259: UserWarning:\n",
      "\n",
      "Graph is not fully connected, spectral embedding may not work as expected.\n",
      "\n",
      "/Library/Frameworks/Python.framework/Versions/3.10/lib/python3.10/site-packages/sklearn/manifold/_spectral_embedding.py:259: UserWarning:\n",
      "\n",
      "Graph is not fully connected, spectral embedding may not work as expected.\n",
      "\n",
      "/Library/Frameworks/Python.framework/Versions/3.10/lib/python3.10/site-packages/sklearn/manifold/_spectral_embedding.py:259: UserWarning:\n",
      "\n",
      "Graph is not fully connected, spectral embedding may not work as expected.\n",
      "\n",
      "/Library/Frameworks/Python.framework/Versions/3.10/lib/python3.10/site-packages/sklearn/manifold/_spectral_embedding.py:259: UserWarning:\n",
      "\n",
      "Graph is not fully connected, spectral embedding may not work as expected.\n",
      "\n",
      "/Library/Frameworks/Python.framework/Versions/3.10/lib/python3.10/site-packages/sklearn/manifold/_spectral_embedding.py:259: UserWarning:\n",
      "\n",
      "Graph is not fully connected, spectral embedding may not work as expected.\n",
      "\n",
      "/Library/Frameworks/Python.framework/Versions/3.10/lib/python3.10/site-packages/sklearn/manifold/_spectral_embedding.py:259: UserWarning:\n",
      "\n",
      "Graph is not fully connected, spectral embedding may not work as expected.\n",
      "\n",
      "/Library/Frameworks/Python.framework/Versions/3.10/lib/python3.10/site-packages/sklearn/manifold/_spectral_embedding.py:259: UserWarning:\n",
      "\n",
      "Graph is not fully connected, spectral embedding may not work as expected.\n",
      "\n",
      "/Library/Frameworks/Python.framework/Versions/3.10/lib/python3.10/site-packages/sklearn/manifold/_spectral_embedding.py:259: UserWarning:\n",
      "\n",
      "Graph is not fully connected, spectral embedding may not work as expected.\n",
      "\n",
      "/Library/Frameworks/Python.framework/Versions/3.10/lib/python3.10/site-packages/sklearn/manifold/_spectral_embedding.py:259: UserWarning:\n",
      "\n",
      "Graph is not fully connected, spectral embedding may not work as expected.\n",
      "\n",
      "/Library/Frameworks/Python.framework/Versions/3.10/lib/python3.10/site-packages/sklearn/manifold/_spectral_embedding.py:259: UserWarning:\n",
      "\n",
      "Graph is not fully connected, spectral embedding may not work as expected.\n",
      "\n",
      "/Library/Frameworks/Python.framework/Versions/3.10/lib/python3.10/site-packages/sklearn/manifold/_spectral_embedding.py:259: UserWarning:\n",
      "\n",
      "Graph is not fully connected, spectral embedding may not work as expected.\n",
      "\n",
      "/Library/Frameworks/Python.framework/Versions/3.10/lib/python3.10/site-packages/sklearn/manifold/_spectral_embedding.py:259: UserWarning:\n",
      "\n",
      "Graph is not fully connected, spectral embedding may not work as expected.\n",
      "\n",
      "/Library/Frameworks/Python.framework/Versions/3.10/lib/python3.10/site-packages/sklearn/manifold/_spectral_embedding.py:259: UserWarning:\n",
      "\n",
      "Graph is not fully connected, spectral embedding may not work as expected.\n",
      "\n",
      "/Library/Frameworks/Python.framework/Versions/3.10/lib/python3.10/site-packages/sklearn/manifold/_spectral_embedding.py:259: UserWarning:\n",
      "\n",
      "Graph is not fully connected, spectral embedding may not work as expected.\n",
      "\n",
      "/Library/Frameworks/Python.framework/Versions/3.10/lib/python3.10/site-packages/sklearn/manifold/_spectral_embedding.py:259: UserWarning:\n",
      "\n",
      "Graph is not fully connected, spectral embedding may not work as expected.\n",
      "\n",
      "/Library/Frameworks/Python.framework/Versions/3.10/lib/python3.10/site-packages/sklearn/manifold/_spectral_embedding.py:259: UserWarning:\n",
      "\n",
      "Graph is not fully connected, spectral embedding may not work as expected.\n",
      "\n",
      "/Library/Frameworks/Python.framework/Versions/3.10/lib/python3.10/site-packages/sklearn/manifold/_spectral_embedding.py:259: UserWarning:\n",
      "\n",
      "Graph is not fully connected, spectral embedding may not work as expected.\n",
      "\n",
      "/Library/Frameworks/Python.framework/Versions/3.10/lib/python3.10/site-packages/sklearn/manifold/_spectral_embedding.py:259: UserWarning:\n",
      "\n",
      "Graph is not fully connected, spectral embedding may not work as expected.\n",
      "\n",
      "/Library/Frameworks/Python.framework/Versions/3.10/lib/python3.10/site-packages/sklearn/manifold/_spectral_embedding.py:259: UserWarning:\n",
      "\n",
      "Graph is not fully connected, spectral embedding may not work as expected.\n",
      "\n",
      "/Library/Frameworks/Python.framework/Versions/3.10/lib/python3.10/site-packages/sklearn/manifold/_spectral_embedding.py:259: UserWarning:\n",
      "\n",
      "Graph is not fully connected, spectral embedding may not work as expected.\n",
      "\n",
      "/Library/Frameworks/Python.framework/Versions/3.10/lib/python3.10/site-packages/sklearn/manifold/_spectral_embedding.py:259: UserWarning:\n",
      "\n",
      "Graph is not fully connected, spectral embedding may not work as expected.\n",
      "\n",
      "/Library/Frameworks/Python.framework/Versions/3.10/lib/python3.10/site-packages/sklearn/manifold/_spectral_embedding.py:259: UserWarning:\n",
      "\n",
      "Graph is not fully connected, spectral embedding may not work as expected.\n",
      "\n",
      "/Library/Frameworks/Python.framework/Versions/3.10/lib/python3.10/site-packages/sklearn/manifold/_spectral_embedding.py:259: UserWarning:\n",
      "\n",
      "Graph is not fully connected, spectral embedding may not work as expected.\n",
      "\n",
      "/Library/Frameworks/Python.framework/Versions/3.10/lib/python3.10/site-packages/sklearn/manifold/_spectral_embedding.py:259: UserWarning:\n",
      "\n",
      "Graph is not fully connected, spectral embedding may not work as expected.\n",
      "\n",
      "/Library/Frameworks/Python.framework/Versions/3.10/lib/python3.10/site-packages/sklearn/manifold/_spectral_embedding.py:259: UserWarning:\n",
      "\n",
      "Graph is not fully connected, spectral embedding may not work as expected.\n",
      "\n",
      "/Library/Frameworks/Python.framework/Versions/3.10/lib/python3.10/site-packages/sklearn/manifold/_spectral_embedding.py:259: UserWarning:\n",
      "\n",
      "Graph is not fully connected, spectral embedding may not work as expected.\n",
      "\n"
     ]
    },
    {
     "name": "stdout",
     "output_type": "stream",
     "text": [
      "Best score:  0.44731769014554973\n",
      "Best params:  {'assign_labels': 'discretize', 'n_neighbors': 20, 'affinity': 'nearest_neighbors', 'n_clusters': 4, 'n_init': 10}\n"
     ]
    },
    {
     "data": {
      "image/png": "[encoded data removed]",
      "text/plain": [
       "<Figure size 640x480 with 1 Axes>"
      ]
     },
     "metadata": {},
     "output_type": "display_data"
    },
    {
     "name": "stderr",
     "output_type": "stream",
     "text": [
      "/Library/Frameworks/Python.framework/Versions/3.10/lib/python3.10/site-packages/sklearn/cluster/_kmeans.py:1318: FutureWarning:\n",
      "\n",
      "algorithm='auto' is deprecated, it will be removed in 1.3. Using 'lloyd' instead.\n",
      "\n",
      "/Library/Frameworks/Python.framework/Versions/3.10/lib/python3.10/site-packages/sklearn/cluster/_kmeans.py:1318: FutureWarning:\n",
      "\n",
      "algorithm='full' is deprecated, it will be removed in 1.3. Using 'lloyd' instead.\n",
      "\n",
      "/Library/Frameworks/Python.framework/Versions/3.10/lib/python3.10/site-packages/sklearn/cluster/_kmeans.py:1318: FutureWarning:\n",
      "\n",
      "algorithm='auto' is deprecated, it will be removed in 1.3. Using 'lloyd' instead.\n",
      "\n",
      "/Library/Frameworks/Python.framework/Versions/3.10/lib/python3.10/site-packages/sklearn/cluster/_kmeans.py:1318: FutureWarning:\n",
      "\n",
      "algorithm='full' is deprecated, it will be removed in 1.3. Using 'lloyd' instead.\n",
      "\n",
      "/Library/Frameworks/Python.framework/Versions/3.10/lib/python3.10/site-packages/sklearn/cluster/_kmeans.py:1318: FutureWarning:\n",
      "\n",
      "algorithm='auto' is deprecated, it will be removed in 1.3. Using 'lloyd' instead.\n",
      "\n",
      "/Library/Frameworks/Python.framework/Versions/3.10/lib/python3.10/site-packages/sklearn/cluster/_kmeans.py:1318: FutureWarning:\n",
      "\n",
      "algorithm='full' is deprecated, it will be removed in 1.3. Using 'lloyd' instead.\n",
      "\n",
      "/Library/Frameworks/Python.framework/Versions/3.10/lib/python3.10/site-packages/sklearn/cluster/_kmeans.py:1318: FutureWarning:\n",
      "\n",
      "algorithm='auto' is deprecated, it will be removed in 1.3. Using 'lloyd' instead.\n",
      "\n",
      "/Library/Frameworks/Python.framework/Versions/3.10/lib/python3.10/site-packages/sklearn/cluster/_kmeans.py:1318: FutureWarning:\n",
      "\n",
      "algorithm='full' is deprecated, it will be removed in 1.3. Using 'lloyd' instead.\n",
      "\n",
      "/Library/Frameworks/Python.framework/Versions/3.10/lib/python3.10/site-packages/sklearn/cluster/_kmeans.py:1318: FutureWarning:\n",
      "\n",
      "algorithm='auto' is deprecated, it will be removed in 1.3. Using 'lloyd' instead.\n",
      "\n",
      "/Library/Frameworks/Python.framework/Versions/3.10/lib/python3.10/site-packages/sklearn/cluster/_kmeans.py:1318: FutureWarning:\n",
      "\n",
      "algorithm='full' is deprecated, it will be removed in 1.3. Using 'lloyd' instead.\n",
      "\n",
      "/Library/Frameworks/Python.framework/Versions/3.10/lib/python3.10/site-packages/sklearn/cluster/_kmeans.py:1318: FutureWarning:\n",
      "\n",
      "algorithm='auto' is deprecated, it will be removed in 1.3. Using 'lloyd' instead.\n",
      "\n",
      "/Library/Frameworks/Python.framework/Versions/3.10/lib/python3.10/site-packages/sklearn/cluster/_kmeans.py:1318: FutureWarning:\n",
      "\n",
      "algorithm='full' is deprecated, it will be removed in 1.3. Using 'lloyd' instead.\n",
      "\n",
      "/Library/Frameworks/Python.framework/Versions/3.10/lib/python3.10/site-packages/sklearn/cluster/_kmeans.py:1318: FutureWarning:\n",
      "\n",
      "algorithm='auto' is deprecated, it will be removed in 1.3. Using 'lloyd' instead.\n",
      "\n",
      "/Library/Frameworks/Python.framework/Versions/3.10/lib/python3.10/site-packages/sklearn/cluster/_kmeans.py:1318: FutureWarning:\n",
      "\n",
      "algorithm='full' is deprecated, it will be removed in 1.3. Using 'lloyd' instead.\n",
      "\n",
      "/Library/Frameworks/Python.framework/Versions/3.10/lib/python3.10/site-packages/sklearn/cluster/_kmeans.py:1318: FutureWarning:\n",
      "\n",
      "algorithm='auto' is deprecated, it will be removed in 1.3. Using 'lloyd' instead.\n",
      "\n",
      "/Library/Frameworks/Python.framework/Versions/3.10/lib/python3.10/site-packages/sklearn/cluster/_kmeans.py:1318: FutureWarning:\n",
      "\n",
      "algorithm='full' is deprecated, it will be removed in 1.3. Using 'lloyd' instead.\n",
      "\n",
      "/Library/Frameworks/Python.framework/Versions/3.10/lib/python3.10/site-packages/sklearn/cluster/_kmeans.py:1318: FutureWarning:\n",
      "\n",
      "algorithm='auto' is deprecated, it will be removed in 1.3. Using 'lloyd' instead.\n",
      "\n",
      "/Library/Frameworks/Python.framework/Versions/3.10/lib/python3.10/site-packages/sklearn/cluster/_kmeans.py:1318: FutureWarning:\n",
      "\n",
      "algorithm='full' is deprecated, it will be removed in 1.3. Using 'lloyd' instead.\n",
      "\n",
      "/Library/Frameworks/Python.framework/Versions/3.10/lib/python3.10/site-packages/sklearn/cluster/_kmeans.py:1318: FutureWarning:\n",
      "\n",
      "algorithm='auto' is deprecated, it will be removed in 1.3. Using 'lloyd' instead.\n",
      "\n",
      "/Library/Frameworks/Python.framework/Versions/3.10/lib/python3.10/site-packages/sklearn/cluster/_kmeans.py:1318: FutureWarning:\n",
      "\n",
      "algorithm='full' is deprecated, it will be removed in 1.3. Using 'lloyd' instead.\n",
      "\n",
      "/Library/Frameworks/Python.framework/Versions/3.10/lib/python3.10/site-packages/sklearn/cluster/_kmeans.py:1318: FutureWarning:\n",
      "\n",
      "algorithm='auto' is deprecated, it will be removed in 1.3. Using 'lloyd' instead.\n",
      "\n",
      "/Library/Frameworks/Python.framework/Versions/3.10/lib/python3.10/site-packages/sklearn/cluster/_kmeans.py:1318: FutureWarning:\n",
      "\n",
      "algorithm='full' is deprecated, it will be removed in 1.3. Using 'lloyd' instead.\n",
      "\n",
      "/Library/Frameworks/Python.framework/Versions/3.10/lib/python3.10/site-packages/sklearn/cluster/_kmeans.py:1318: FutureWarning:\n",
      "\n",
      "algorithm='auto' is deprecated, it will be removed in 1.3. Using 'lloyd' instead.\n",
      "\n",
      "/Library/Frameworks/Python.framework/Versions/3.10/lib/python3.10/site-packages/sklearn/cluster/_kmeans.py:1318: FutureWarning:\n",
      "\n",
      "algorithm='full' is deprecated, it will be removed in 1.3. Using 'lloyd' instead.\n",
      "\n",
      "/Library/Frameworks/Python.framework/Versions/3.10/lib/python3.10/site-packages/sklearn/cluster/_kmeans.py:1318: FutureWarning:\n",
      "\n",
      "algorithm='auto' is deprecated, it will be removed in 1.3. Using 'lloyd' instead.\n",
      "\n",
      "/Library/Frameworks/Python.framework/Versions/3.10/lib/python3.10/site-packages/sklearn/cluster/_kmeans.py:1318: FutureWarning:\n",
      "\n",
      "algorithm='full' is deprecated, it will be removed in 1.3. Using 'lloyd' instead.\n",
      "\n",
      "/Library/Frameworks/Python.framework/Versions/3.10/lib/python3.10/site-packages/sklearn/cluster/_kmeans.py:1318: FutureWarning:\n",
      "\n",
      "algorithm='auto' is deprecated, it will be removed in 1.3. Using 'lloyd' instead.\n",
      "\n",
      "/Library/Frameworks/Python.framework/Versions/3.10/lib/python3.10/site-packages/sklearn/cluster/_kmeans.py:1318: FutureWarning:\n",
      "\n",
      "algorithm='full' is deprecated, it will be removed in 1.3. Using 'lloyd' instead.\n",
      "\n",
      "/Library/Frameworks/Python.framework/Versions/3.10/lib/python3.10/site-packages/sklearn/cluster/_kmeans.py:1318: FutureWarning:\n",
      "\n",
      "algorithm='auto' is deprecated, it will be removed in 1.3. Using 'lloyd' instead.\n",
      "\n",
      "/Library/Frameworks/Python.framework/Versions/3.10/lib/python3.10/site-packages/sklearn/cluster/_kmeans.py:1318: FutureWarning:\n",
      "\n",
      "algorithm='full' is deprecated, it will be removed in 1.3. Using 'lloyd' instead.\n",
      "\n",
      "/Library/Frameworks/Python.framework/Versions/3.10/lib/python3.10/site-packages/sklearn/cluster/_kmeans.py:1318: FutureWarning:\n",
      "\n",
      "algorithm='auto' is deprecated, it will be removed in 1.3. Using 'lloyd' instead.\n",
      "\n",
      "/Library/Frameworks/Python.framework/Versions/3.10/lib/python3.10/site-packages/sklearn/cluster/_kmeans.py:1318: FutureWarning:\n",
      "\n",
      "algorithm='full' is deprecated, it will be removed in 1.3. Using 'lloyd' instead.\n",
      "\n"
     ]
    },
    {
     "name": "stdout",
     "output_type": "stream",
     "text": [
      "Best score:  0.7003508044174154\n",
      "Best params:  {'algorithm': 'auto', 'init': 'k-means++', 'n_clusters': 3, 'max_iter': 300}\n"
     ]
    },
    {
     "data": {
      "image/png": "[encoded data removed]",
      "text/plain": [
       "<Figure size 640x480 with 1 Axes>"
      ]
     },
     "metadata": {},
     "output_type": "display_data"
    }
   ],
   "source": [
    "_data = df.iloc[:,1:]\n",
    "\n",
    "fixed_params_spectral = {\"n_init\":10}\n",
    "param_grid_spectral = {\"n_clusters\": range(2, 11),\n",
    "                      \"affinity\": ['nearest_neighbors', 'rbf'],\n",
    "                      \"n_neighbors\": [5, 10, 20, 30],\n",
    "                      \"assign_labels\": ['kmeans', 'discretize']}\n",
    "run_clustering_algorithm(_data, \"spectral\", fixed_params_spectral, param_grid_spectral)\n",
    "\n",
    "fixed_params_kmeans = {\"max_iter\":300}\n",
    "param_grid_kmeans = {\"n_clusters\": range(3, 11),\n",
    "                      \"init\": ['k-means++', 'random'],\n",
    "                      \"algorithm\": ['auto', 'full', 'elkan']}\n",
    "run_clustering_algorithm(_data, \"kmeans\", fixed_params_kmeans, param_grid_kmeans)"
   ]
  }
 ],
 "metadata": {
  "kernelspec": {
   "display_name": "Python 3",
   "language": "python",
   "name": "python3"
  },
  "language_info": {
   "codemirror_mode": {
    "name": "ipython",
    "version": 3
   },
   "file_extension": ".py",
   "mimetype": "text/x-python",
   "name": "python",
   "nbconvert_exporter": "python",
   "pygments_lexer": "ipython3",
   "version": "3.10.1"
  }
 },
 "nbformat": 4,
 "nbformat_minor": 0
}
